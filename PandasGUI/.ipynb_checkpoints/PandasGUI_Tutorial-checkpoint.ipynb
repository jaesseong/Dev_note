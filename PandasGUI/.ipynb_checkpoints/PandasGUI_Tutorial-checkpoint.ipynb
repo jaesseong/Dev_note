{
 "cells": [
  {
   "cell_type": "markdown",
   "id": "bea64be4",
   "metadata": {},
   "source": [
    "# PandasGUI Tutorial\n",
    "![PandasGUI](https://miro.medium.com/max/2000/1*D52Xx8jpbE61XolQdWMVXQ.png)"
   ]
  },
  {
   "cell_type": "markdown",
   "id": "62924faf",
   "metadata": {},
   "source": [
    "# 목차"
   ]
  },
  {
   "cell_type": "markdown",
   "id": "c44a5c52",
   "metadata": {},
   "source": [
    "# PandasGUI란?\n",
    "Pandas의 데이터 프레임을 분석하기 위한 그래픽 사용자 인터페이스\n",
    "- 2 ~ 3 줄의 코드로 기본 EDA<sup>Exploratory Data Analysis</sup>를 수행할 수 있는 도구\n",
    "- PandasGUI는 Pandas 기반으로 작동합니다.\n",
    "- 데이터 프레임을 재구성할 뿐만 아니라 ~~capabilities of plotting~~을 제공"
   ]
  },
  {
   "cell_type": "markdown",
   "id": "7aa655a8",
   "metadata": {},
   "source": [
    "# PandasGUI Tutorial\n",
    "PandasGUI 라이브러리의 다양한 기능을 PandasGUI에서 기본으로 제공되는 Titanic 데이터와 함께 Titanic에서 살아남은 승객을 예측하는 모델을 만드는 작업을 진행하는 연습을 할 것입니다."
   ]
  },
  {
   "cell_type": "markdown",
   "id": "f4fef459",
   "metadata": {},
   "source": [
    "# PandasGUI 설치"
   ]
  },
  {
   "cell_type": "code",
   "execution_count": 7,
   "id": "3c002211",
   "metadata": {},
   "outputs": [
    {
     "name": "stdout",
     "output_type": "stream",
     "text": [
      "Requirement already satisfied: pandasgui in c:\\users\\wotjd\\anaconda3\\lib\\site-packages (0.2.12)\n",
      "Requirement already satisfied: setuptools in c:\\users\\wotjd\\anaconda3\\lib\\site-packages (from pandasgui) (52.0.0.post20210125)\n",
      "Requirement already satisfied: pandas in c:\\users\\wotjd\\anaconda3\\lib\\site-packages (from pandasgui) (1.2.4)\n",
      "Requirement already satisfied: PyQt5-sip in c:\\users\\wotjd\\anaconda3\\lib\\site-packages (from pandasgui) (12.9.0)\n",
      "Requirement already satisfied: typing-extensions in c:\\users\\wotjd\\anaconda3\\lib\\site-packages (from pandasgui) (3.7.4.3)\n",
      "Requirement already satisfied: PyQtWebEngine in c:\\users\\wotjd\\anaconda3\\lib\\site-packages (from pandasgui) (5.15.4)\n",
      "Requirement already satisfied: numpy in c:\\users\\wotjd\\anaconda3\\lib\\site-packages (from pandasgui) (1.19.5)\n",
      "Requirement already satisfied: IPython in c:\\users\\wotjd\\anaconda3\\lib\\site-packages (from pandasgui) (7.22.0)\n",
      "Requirement already satisfied: astor in c:\\users\\wotjd\\anaconda3\\lib\\site-packages (from pandasgui) (0.8.1)\n",
      "Requirement already satisfied: pynput in c:\\users\\wotjd\\anaconda3\\lib\\site-packages (from pandasgui) (1.7.3)\n",
      "Requirement already satisfied: wordcloud in c:\\users\\wotjd\\anaconda3\\lib\\site-packages (from pandasgui) (1.8.1)\n",
      "Requirement already satisfied: pyarrow in c:\\users\\wotjd\\anaconda3\\lib\\site-packages (from pandasgui) (4.0.1)\n",
      "Requirement already satisfied: appdirs in c:\\users\\wotjd\\anaconda3\\lib\\site-packages (from pandasgui) (1.4.4)\n",
      "Requirement already satisfied: plotly in c:\\users\\wotjd\\anaconda3\\lib\\site-packages (from pandasgui) (5.1.0)\n",
      "Requirement already satisfied: PyQt5 in c:\\users\\wotjd\\anaconda3\\lib\\site-packages (from pandasgui) (5.15.4)\n",
      "Requirement already satisfied: decorator in c:\\users\\wotjd\\anaconda3\\lib\\site-packages (from IPython->pandasgui) (5.0.6)\n",
      "Requirement already satisfied: traitlets>=4.2 in c:\\users\\wotjd\\anaconda3\\lib\\site-packages (from IPython->pandasgui) (5.0.5)\n",
      "Requirement already satisfied: colorama in c:\\users\\wotjd\\anaconda3\\lib\\site-packages (from IPython->pandasgui) (0.4.4)\n",
      "Requirement already satisfied: prompt-toolkit!=3.0.0,!=3.0.1,<3.1.0,>=2.0.0 in c:\\users\\wotjd\\anaconda3\\lib\\site-packages (from IPython->pandasgui) (3.0.17)\n",
      "Requirement already satisfied: pygments in c:\\users\\wotjd\\anaconda3\\lib\\site-packages (from IPython->pandasgui) (2.8.1)\n",
      "Requirement already satisfied: pickleshare in c:\\users\\wotjd\\anaconda3\\lib\\site-packages (from IPython->pandasgui) (0.7.5)\n",
      "Requirement already satisfied: backcall in c:\\users\\wotjd\\anaconda3\\lib\\site-packages (from IPython->pandasgui) (0.2.0)\n",
      "Requirement already satisfied: jedi>=0.16 in c:\\users\\wotjd\\anaconda3\\lib\\site-packages (from IPython->pandasgui) (0.17.2)\n",
      "Requirement already satisfied: parso<0.8.0,>=0.7.0 in c:\\users\\wotjd\\anaconda3\\lib\\site-packages (from jedi>=0.16->IPython->pandasgui) (0.7.0)\n",
      "Requirement already satisfied: wcwidth in c:\\users\\wotjd\\anaconda3\\lib\\site-packages (from prompt-toolkit!=3.0.0,!=3.0.1,<3.1.0,>=2.0.0->IPython->pandasgui) (0.2.5)\n",
      "Requirement already satisfied: ipython-genutils in c:\\users\\wotjd\\anaconda3\\lib\\site-packages (from traitlets>=4.2->IPython->pandasgui) (0.2.0)\n",
      "Requirement already satisfied: pytz>=2017.3 in c:\\users\\wotjd\\anaconda3\\lib\\site-packages (from pandas->pandasgui) (2021.1)\n",
      "Requirement already satisfied: python-dateutil>=2.7.3 in c:\\users\\wotjd\\anaconda3\\lib\\site-packages (from pandas->pandasgui) (2.8.1)\n",
      "Requirement already satisfied: six>=1.5 in c:\\users\\wotjd\\anaconda3\\lib\\site-packages (from python-dateutil>=2.7.3->pandas->pandasgui) (1.15.0)\n",
      "Requirement already satisfied: tenacity>=6.2.0 in c:\\users\\wotjd\\anaconda3\\lib\\site-packages (from plotly->pandasgui) (7.0.0)\n",
      "Requirement already satisfied: PyQt5-Qt5>=5.15 in c:\\users\\wotjd\\anaconda3\\lib\\site-packages (from PyQt5->pandasgui) (5.15.2)\n",
      "Requirement already satisfied: PyQtWebEngine-Qt5>=5.15 in c:\\users\\wotjd\\anaconda3\\lib\\site-packages (from PyQtWebEngine->pandasgui) (5.15.2)\n",
      "Requirement already satisfied: matplotlib in c:\\users\\wotjd\\anaconda3\\lib\\site-packages (from wordcloud->pandasgui) (3.3.4)\n",
      "Requirement already satisfied: pillow in c:\\users\\wotjd\\anaconda3\\lib\\site-packages (from wordcloud->pandasgui) (8.2.0)\n",
      "Requirement already satisfied: pyparsing!=2.0.4,!=2.1.2,!=2.1.6,>=2.0.3 in c:\\users\\wotjd\\anaconda3\\lib\\site-packages (from matplotlib->wordcloud->pandasgui) (2.4.7)\n",
      "Requirement already satisfied: kiwisolver>=1.0.1 in c:\\users\\wotjd\\anaconda3\\lib\\site-packages (from matplotlib->wordcloud->pandasgui) (1.3.1)\n",
      "Requirement already satisfied: cycler>=0.10 in c:\\users\\wotjd\\anaconda3\\lib\\site-packages (from matplotlib->wordcloud->pandasgui) (0.10.0)\n",
      "Note: you may need to restart the kernel to use updated packages.\n"
     ]
    },
    {
     "name": "stderr",
     "output_type": "stream",
     "text": [
      "WARNING: You are using pip version 21.1.1; however, version 21.1.3 is available.\n",
      "You should consider upgrading via the 'C:\\Users\\wotjd\\anaconda3\\python.exe -m pip install --upgrade pip' command.\n"
     ]
    }
   ],
   "source": [
    "pip install pandasgui"
   ]
  },
  {
   "cell_type": "markdown",
   "id": "e3090063",
   "metadata": {},
   "source": [
    "# Features\n",
    "PandasGUI의 기능들을 알아보자"
   ]
  },
  {
   "cell_type": "code",
   "execution_count": 16,
   "id": "523cf2d7",
   "metadata": {},
   "outputs": [
    {
     "name": "stderr",
     "output_type": "stream",
     "text": [
      "PandasGUI INFO — pandasgui.gui — Opening PandasGUI...\n"
     ]
    }
   ],
   "source": [
    "import pandas as pd\n",
    "from pandasgui import show\n",
    "from pandasgui.datasets import titanic\n",
    "gui = show(titanic)"
   ]
  },
  {
   "cell_type": "markdown",
   "id": "605cee32",
   "metadata": {},
   "source": [
    "![pandasgui_interface](./image/pandasgui_001.png)"
   ]
  },
  {
   "cell_type": "markdown",
   "id": "594323af",
   "metadata": {},
   "source": [
    "## 데이터프레임<sup>DataFrames</sup>과 시리즈<sup>Series</sup> 정렬 및 보기\n",
    "PandasGUI에서 간편하게 전체의 데이터를 보고 손쉽게 정렬할 수 있습니다."
   ]
  },
  {
   "cell_type": "markdown",
   "id": "8156d36b",
   "metadata": {},
   "source": [
    "![pandasgui_viewing_sorting](./image/pandasgui_action_001.gif)"
   ]
  },
  {
   "cell_type": "markdown",
   "id": "68aeaef6",
   "metadata": {},
   "source": [
    "## Query문을 활용하여 데이터프레임 필터링<sup>Filtering</sup>\n",
    "* 일부의 Query문을 활용하여 데이터 셋을 필터링 할 수 있습니다.\n",
    " - pandas에서 `Dataframe.query()`를 활용한 필터링 작업과 동일\n",
    " - 데이터 필터링을 하기 위해 문자열 형식으로 변환 후 원래의 형식으로 재변환하여 반환"
   ]
  },
  {
   "cell_type": "markdown",
   "id": "5e40d189",
   "metadata": {},
   "source": [
    "* male & Pcalss == 3 & survived 조건으로 필터링\n",
    "![Filtering](./image/pandasgui_action_002.gif)"
   ]
  },
  {
   "cell_type": "markdown",
   "id": "d8b18a12",
   "metadata": {},
   "source": [
    "## 데이터 수정 및 복사/붙여넣기\n",
    "직접적인 수정이 가능하고 excel이나 notepad와 같은 다른 환경으로 손쉽게 복사 붙여넣기가 가능"
   ]
  },
  {
   "cell_type": "markdown",
   "id": "e8245766",
   "metadata": {},
   "source": [
    "![editing&copy&paste](./image/pandasgui_action_003.gif)"
   ]
  },
  {
   "cell_type": "markdown",
   "id": "e0efae30",
   "metadata": {},
   "source": [
    "## 데이터 프레임의 통계 요약\n",
    "PandasGUI를 통해 데이터프레임의 통계적 요약을 볼 수 있다.  \n",
    "settings -> Preferences -> refresh_statistics를 설정으로 변경\n",
    "![statistics_summary](./image/pandasgui_002.png)"
   ]
  },
  {
   "cell_type": "markdown",
   "id": "9b21cce8",
   "metadata": {},
   "source": [
    "## Interactive plotting\n",
    "PandasGUI는 데이터 시각화를 위해 빠른 대화형 차트 몇 가지를 제공  \n",
    "![차트 종류](https://miro.medium.com/max/1004/1*7VivGHjyaTolUmqNbYYetA.png)\n"
   ]
  },
  {
   "cell_type": "markdown",
   "id": "a0b60400",
   "metadata": {},
   "source": [
    "아래에서 Histogram, Box, Pie chart를 만들었습니다.  \n",
    "차트는 대화형일 뿐만 아니라 반응형이기도 합니다.\n",
    "![chart](./image/pandasgui_action_004.gif)"
   ]
  },
  {
   "cell_type": "markdown",
   "id": "aa70adfe",
   "metadata": {},
   "source": [
    "## Reshaping DataFrames\n",
    "pivot, melt, merge 또는 concat 함수를 활용하여 데이터를 재구축할 수 있습니다.\n",
    "![Reshaping](./image/pandasgui_action_005.gif)"
   ]
  },
  {
   "cell_type": "markdown",
   "id": "25f5129a",
   "metadata": {},
   "source": [
    "## Import CSV file with drag & drop\n",
    "PandasGUI는 손쉽게 GUI interface를 활용해 drag&drop으로 csv file을 손쉽게 import 해올 수 있다.\n",
    "![Import_CSV](./image/pandasGUI_action_006.gif)"
   ]
  },
  {
   "cell_type": "markdown",
   "id": "9dc2bb4f",
   "metadata": {},
   "source": [
    "## Jupyter notebook에서 PandasGUI DataFrame에 접근하기\n",
    "Drag&Drop으로 Import된 DataFrame을 Jupyter notebook의 DataFrame으로 불러올 수 있다."
   ]
  },
  {
   "cell_type": "code",
   "execution_count": 19,
   "id": "3dd41d9b",
   "metadata": {},
   "outputs": [
    {
     "name": "stdout",
     "output_type": "stream",
     "text": [
      "dict_keys(['titanic', 'audit_risk'])\n"
     ]
    }
   ],
   "source": [
    "#Access GUI DataFrames from Jupyter Notebook\n",
    "data = gui.get_dataframes()\n",
    "print(data.keys())"
   ]
  },
  {
   "cell_type": "code",
   "execution_count": 20,
   "id": "b96c26ec",
   "metadata": {},
   "outputs": [
    {
     "name": "stdout",
     "output_type": "stream",
     "text": [
      "     Sector_score LOCATION_ID  PARA_A  Score_A  Risk_A  ...  Inherent_Risk  CONTROL_RISK  Detection_Risk  Audit_Risk  Risk\n",
      "0            3.89          23    4.18      0.6   2.508  ...          8.574           0.4             0.5      1.7148     1\n",
      "1            3.89           6    0.00      0.2   0.000  ...          2.554           0.4             0.5      0.5108     0\n",
      "2            3.89           6    0.51      0.2   0.102  ...          1.548           0.4             0.5      0.3096     0\n",
      "3            3.89           6    0.00      0.2   0.000  ...         17.530           0.4             0.5      3.5060     1\n",
      "4            3.89           6    0.00      0.2   0.000  ...          1.416           0.4             0.5      0.2832     0\n",
      "..            ...         ...     ...      ...     ...  ...            ...           ...             ...         ...   ...\n",
      "771         55.57           9    0.49      0.2   0.098  ...          1.578           0.4             0.5      0.3156     0\n",
      "772         55.57          16    0.47      0.2   0.094  ...          1.568           0.4             0.5      0.3136     0\n",
      "773         55.57          14    0.24      0.2   0.048  ...          1.456           0.4             0.5      0.2912     0\n",
      "774         55.57          18    0.20      0.2   0.040  ...          1.440           0.4             0.5      0.2880     0\n",
      "775         55.57          15    0.00      0.2   0.000  ...          1.464           0.4             0.5      0.2928     0\n",
      "\n",
      "[776 rows x 27 columns]\n"
     ]
    }
   ],
   "source": [
    "print(data['audit_risk'])"
   ]
  },
  {
   "cell_type": "code",
   "execution_count": null,
   "id": "4f7187b9",
   "metadata": {},
   "outputs": [],
   "source": []
  }
 ],
 "metadata": {
  "kernelspec": {
   "display_name": "Python 3",
   "language": "python",
   "name": "python3"
  },
  "language_info": {
   "codemirror_mode": {
    "name": "ipython",
    "version": 3
   },
   "file_extension": ".py",
   "mimetype": "text/x-python",
   "name": "python",
   "nbconvert_exporter": "python",
   "pygments_lexer": "ipython3",
   "version": "3.8.8"
  }
 },
 "nbformat": 4,
 "nbformat_minor": 5
}
