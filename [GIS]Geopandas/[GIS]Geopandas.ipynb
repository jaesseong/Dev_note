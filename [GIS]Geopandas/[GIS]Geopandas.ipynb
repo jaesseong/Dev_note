{
 "cells": [
  {
   "cell_type": "markdown",
   "id": "6130923f",
   "metadata": {},
   "source": [
    "# [GIS<sup>Geospatial Information System</sup>]Geopandas Tutorial\n",
    "이 내용은 [yg's blog](https://yganalyst.github.io/spatial_analysis/spatial_analysis_1/)를 보고 공부하기 위해 작성한 내용입니다."
   ]
  },
  {
   "cell_type": "markdown",
   "id": "e923fb88",
   "metadata": {},
   "source": [
    "# 목차"
   ]
  },
  {
   "cell_type": "markdown",
   "id": "4cc25b5a",
   "metadata": {},
   "source": [
    "# GIS<sup>Geospatial Information System</sup>란?\n",
    "지도를 점<sup>Point</sup>, 선<sup>Line</sup> 또는 영역<sup>Polygon</sup>과 같은 지리 정보 데이터로 변환하여 효율적으로 활용하기 위한 정보 시스템\n",
    "<img src=\"https://yganalyst.github.io/assets/images/gis_logo.jpg\" alt=\"GIS\" height=50% width=50%>\n"
   ]
  },
  {
   "cell_type": "markdown",
   "id": "e2ccfb8a",
   "metadata": {},
   "source": [
    "## GIS Data\n",
    "지리 정보 데이터는 크게 Vector과 Raster로 나누어 지는데 Raster는 객체들을 이미지 형태의 나타내는 데이터이고, 객체들의 지리적 위치를 방향성, 크기로 나타낸 데이터\n",
    "<img src=\"https://t1.daumcdn.net/cfile/blog/2225E44051B96FE51F\" height=50% width=50%>"
   ]
  },
  {
   "cell_type": "markdown",
   "id": "693f93fa",
   "metadata": {},
   "source": [
    "# Geopandas\n",
    "- Python에서 지리 공간 데이터 작업을 보다 쉽게 수행할 수 있는 오픈 소스 프로젝트\n",
    "- Pandas가 사용하는 데이터 유형을 확장(`GeoSeries`, `GeoDataFrame`)하여 기하학적 유형에 대한 공간 작업을 지원\n",
    "- 기하학적 작업은 [shapely](https://shapely.readthedocs.io/en/stable/), 파일 액세스는 [fiona](https://fiona.readthedocs.io/en/latest/), plotting은 [matplotlib](https://matplotlib.org/)에 의존"
   ]
  },
  {
   "cell_type": "markdown",
   "id": "24a7c9bf",
   "metadata": {},
   "source": [
    "## Geopandas 설치\n",
    "Anaconda Prompt\n",
    "```\n",
    "conda install -c conda-forge geopandas\n",
    "```"
   ]
  },
  {
   "cell_type": "markdown",
   "id": "abb5e7b4",
   "metadata": {},
   "source": [
    "## 1. 공간 데이터 생성\n",
    "Geopandas는 `shapely`라는 패키지를 사용하여 기하학적 작업을 진행하는데, 이 패키지에는 세 가지 Vector 타입 이외에 MultiPolygon, MultiLinestring 등이 있다."
   ]
  },
  {
   "cell_type": "code",
   "execution_count": 11,
   "id": "02b86f0d",
   "metadata": {},
   "outputs": [],
   "source": [
    "import geopandas as gpd\n",
    "from shapely.geometry import Polygon, LineString, Point"
   ]
  },
  {
   "cell_type": "code",
   "execution_count": 12,
   "id": "b3e93120",
   "metadata": {},
   "outputs": [],
   "source": [
    "# 4개의 좌표 설정\n",
    "x1, y1 = 1, 2\n",
    "x2, y2 = 2, 2\n",
    "x3, y3 = 2, 3\n",
    "x4, y4 = 1, 3"
   ]
  },
  {
   "cell_type": "code",
   "execution_count": 13,
   "id": "a707d777",
   "metadata": {},
   "outputs": [
    {
     "data": {
      "image/svg+xml": [
       "<svg xmlns=\"http://www.w3.org/2000/svg\" xmlns:xlink=\"http://www.w3.org/1999/xlink\" width=\"100.0\" height=\"100.0\" viewBox=\"0.0 1.0 2.0 2.0\" preserveAspectRatio=\"xMinYMin meet\"><g transform=\"matrix(1,0,0,-1,0,4.0)\"><circle cx=\"1.0\" cy=\"2.0\" r=\"0.06\" stroke=\"#555555\" stroke-width=\"0.02\" fill=\"#66cc99\" opacity=\"0.6\" /></g></svg>"
      ],
      "text/plain": [
       "<shapely.geometry.point.Point at 0x2b9156d37c0>"
      ]
     },
     "execution_count": 13,
     "metadata": {},
     "output_type": "execute_result"
    }
   ],
   "source": [
    "# 점(Point) 만들기\n",
    "Point([x1, y1])"
   ]
  },
  {
   "cell_type": "code",
   "execution_count": 19,
   "id": "73268d72",
   "metadata": {},
   "outputs": [
    {
     "data": {
      "image/svg+xml": [
       "<svg xmlns=\"http://www.w3.org/2000/svg\" xmlns:xlink=\"http://www.w3.org/1999/xlink\" width=\"100.0\" height=\"100.0\" viewBox=\"0.96 1.96 1.08 1.08\" preserveAspectRatio=\"xMinYMin meet\"><g transform=\"matrix(1,0,0,-1,0,5.0)\"><polyline fill=\"none\" stroke=\"#66cc99\" stroke-width=\"0.0216\" points=\"1.0,2.0 2.0,2.0 2.0,3.0 1.0,3.0\" opacity=\"0.8\" /></g></svg>"
      ],
      "text/plain": [
       "<shapely.geometry.linestring.LineString at 0x2b918119190>"
      ]
     },
     "execution_count": 19,
     "metadata": {},
     "output_type": "execute_result"
    }
   ],
   "source": [
    "LineString([(x1, y1), (x2, y2), (x3, y3), (x4, y4)])"
   ]
  },
  {
   "cell_type": "code",
   "execution_count": 16,
   "id": "18c0cb80",
   "metadata": {},
   "outputs": [
    {
     "data": {
      "image/svg+xml": [
       "<svg xmlns=\"http://www.w3.org/2000/svg\" xmlns:xlink=\"http://www.w3.org/1999/xlink\" width=\"100.0\" height=\"100.0\" viewBox=\"0.96 1.96 1.08 1.08\" preserveAspectRatio=\"xMinYMin meet\"><g transform=\"matrix(1,0,0,-1,0,5.0)\"><path fill-rule=\"evenodd\" fill=\"#66cc99\" stroke=\"#555555\" stroke-width=\"0.0216\" opacity=\"0.6\" d=\"M 1.0,2.0 L 2.0,2.0 L 2.0,3.0 L 1.0,3.0 L 1.0,2.0 z\" /></g></svg>"
      ],
      "text/plain": [
       "<shapely.geometry.polygon.Polygon at 0x2b91523e430>"
      ]
     },
     "execution_count": 16,
     "metadata": {},
     "output_type": "execute_result"
    }
   ],
   "source": [
    "Polygon([(x1, y1), (x2, y2), (x3, y3), (x4, y4)])"
   ]
  },
  {
   "cell_type": "code",
   "execution_count": 18,
   "id": "fc0bd74d",
   "metadata": {},
   "outputs": [
    {
     "data": {
      "image/svg+xml": [
       "<svg xmlns=\"http://www.w3.org/2000/svg\" xmlns:xlink=\"http://www.w3.org/1999/xlink\" width=\"100.0\" height=\"100.0\" viewBox=\"0.96 1.96 1.08 1.08\" preserveAspectRatio=\"xMinYMin meet\"><g transform=\"matrix(1,0,0,-1,0,5.0)\"><path fill-rule=\"evenodd\" fill=\"#ff3333\" stroke=\"#555555\" stroke-width=\"0.0216\" opacity=\"0.6\" d=\"M 1.0,2.0 L 2.0,2.0 L 1.0,3.0 L 2.0,3.0 L 1.0,2.0 z\" /></g></svg>"
      ],
      "text/plain": [
       "<shapely.geometry.polygon.Polygon at 0x2b9182ea4c0>"
      ]
     },
     "execution_count": 18,
     "metadata": {},
     "output_type": "execute_result"
    }
   ],
   "source": [
    "Polygon(([(x1,y1),(x2,y2),(x4,y4),(x3,y3)]))"
   ]
  },
  {
   "cell_type": "markdown",
   "id": "25847a9e",
   "metadata": {},
   "source": [
    "Polygon의 좌표는 순서가 있으므로 잘못된 순서로 출력한다면 위와 같은 결과가 출력된다."
   ]
  },
  {
   "cell_type": "code",
   "execution_count": 20,
   "id": "5691be1e",
   "metadata": {},
   "outputs": [
    {
     "data": {
      "image/png": "[encoded data removed]",
      "text/plain": [
       "<Figure size 432x288 with 1 Axes>"
      ]
     },
     "metadata": {
      "needs_background": "light"
     },
     "output_type": "display_data"
    },
    {
     "name": "stdout",
     "output_type": "stream",
     "text": [
      "Point\n",
      "LineString\n",
      "Polygon\n"
     ]
    }
   ],
   "source": [
    "import matplotlib.pyplot as plt\n",
    "\n",
    "point = Point([x1,y1])\n",
    "line = LineString([(x1,y1),(x3,y3)])\n",
    "polygon = Polygon([(x1,y1),(x2,y2),(x3,y3),(x4,y4)])\n",
    "\n",
    "ax = gpd.GeoSeries(polygon).plot( color='black', alpha=0.5)\n",
    "gpd.GeoSeries(line).plot(ax=ax, linewidth=3, color='white')\n",
    "gpd.GeoSeries(point).plot(ax=ax, color='red', markersize=100)\n",
    "plt.axis('off')\n",
    "plt.show()\n",
    "print(point.geom_type)\n",
    "print(line.geom_type)\n",
    "print(polygon.geom_type)"
   ]
  },
  {
   "cell_type": "markdown",
   "id": "0a74ff56",
   "metadata": {},
   "source": [
    "# 2. 외부데이터 활용\n",
    "\n",
    "## "
   ]
  }
 ],
 "metadata": {
  "kernelspec": {
   "display_name": "Python 3",
   "language": "python",
   "name": "python3"
  },
  "language_info": {
   "codemirror_mode": {
    "name": "ipython",
    "version": 3
   },
   "file_extension": ".py",
   "mimetype": "text/x-python",
   "name": "python",
   "nbconvert_exporter": "python",
   "pygments_lexer": "ipython3",
   "version": "3.8.10"
  }
 },
 "nbformat": 4,
 "nbformat_minor": 5
}
