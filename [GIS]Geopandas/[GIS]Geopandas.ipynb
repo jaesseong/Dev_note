{
 "cells": [
  {
   "cell_type": "markdown",
   "id": "6130923f",
   "metadata": {},
   "source": [
    "# [GIS<sup>Geospatial Information System</sup>]Geopandas Tutorial\n",
    "이 내용은 [yg's blog](https://yganalyst.github.io/spatial_analysis/spatial_analysis_1/)를 보고 공부하기 위해 작성한 내용입니다."
   ]
  },
  {
   "cell_type": "markdown",
   "id": "e923fb88",
   "metadata": {},
   "source": [
    "# 목차"
   ]
  },
  {
   "cell_type": "markdown",
   "id": "4cc25b5a",
   "metadata": {},
   "source": [
    "# GIS<sup>Geospatial Information System</sup>란?\n",
    "지도를 점<sup>Point</sup>, 선<sup>Line</sup> 또는 영역<sup>Polygon</sup>과 같은 지리 정보 데이터로 변환하여 효율적으로 활용하기 위한 정보 시스템\n",
    "<img src=\"https://yganalyst.github.io/assets/images/gis_logo.jpg\" alt=\"GIS\" height=50% width=50%>\n"
   ]
  },
  {
   "cell_type": "markdown",
   "id": "e2ccfb8a",
   "metadata": {},
   "source": [
    "## GIS Data\n",
    "지리 정보 데이터는 크게 Vector과 Raster로 나누어 지는데 Raster는 객체들을 이미지 형태의 나타내는 데이터이고, 객체들의 지리적 위치를 방향성, 크기로 나타낸 데이터\n",
    "<img src=\"https://t1.daumcdn.net/cfile/blog/2225E44051B96FE51F\" height=50% width=50%>"
   ]
  },
  {
   "cell_type": "markdown",
   "id": "693f93fa",
   "metadata": {},
   "source": [
    "# Geopandas\n",
    "- Python에서 지리 공간 데이터 작업을 보다 쉽게 수행할 수 있는 오픈 소스 프로젝트\n",
    "- Pandas가 사용하는 데이터 유형을 확장(`GeoSeries`, `GeoDataFrame`)하여 기하학적 유형에 대한 공간 작업을 지원\n",
    "- 기하학적 작업은 [shapely](https://shapely.readthedocs.io/en/stable/), 파일 액세스는 [fiona](https://fiona.readthedocs.io/en/latest/), plotting은 [matplotlib](https://matplotlib.org/)에 의존"
   ]
  },
  {
   "cell_type": "markdown",
   "id": "24a7c9bf",
   "metadata": {},
   "source": [
    "## Geopandas 설치\n",
    "**Anconda**  \n",
    "Anaconda Prompt 실행\n",
    "```\n",
    "conda install -c conda-forge geopandas\n",
    "```\n",
    "\n",
    "&#10060; Anaconda와 내부 라이브러리를 모두 최신 버전으로 업데이트해야지 오류가 나지 않는다."
   ]
  },
  {
   "cell_type": "markdown",
   "id": "59441b08",
   "metadata": {},
   "source": [
    "**pycharm**  \n",
    "file -> Settings -> Python Interpreter -> conda(python 3.8) 환경으로 설정  \n",
    "library install -> geopandas로 해주어야 오류가 나지 않는다.  \n",
    "~~시간나면 영상으로 올리겠다.~~"
   ]
  },
  {
   "cell_type": "markdown",
   "id": "abb5e7b4",
   "metadata": {},
   "source": [
    "## 1. 공간 데이터 생성\n",
    "Geopandas는 `shapely`라는 패키지를 사용하여 기하학적 작업을 진행하는데, 이 패키지에는 세 가지 Vector 타입 이외에 MultiPolygon, MultiLinestring 등이 있다."
   ]
  },
  {
   "cell_type": "code",
   "execution_count": 10,
   "id": "02b86f0d",
   "metadata": {},
   "outputs": [],
   "source": [
    "import geopandas as gpd\n",
    "from shapely.geometry import Polygon, LineString, Point"
   ]
  },
  {
   "cell_type": "code",
   "execution_count": 11,
   "id": "b3e93120",
   "metadata": {},
   "outputs": [],
   "source": [
    "# 4개의 좌표 설정\n",
    "x1, y1 = 1, 2\n",
    "x2, y2 = 2, 2\n",
    "x3, y3 = 2, 3\n",
    "x4, y4 = 1, 3"
   ]
  },
  {
   "cell_type": "code",
   "execution_count": 12,
   "id": "a707d777",
   "metadata": {},
   "outputs": [
    {
     "data": {
      "image/svg+xml": [
       "<svg xmlns=\"http://www.w3.org/2000/svg\" xmlns:xlink=\"http://www.w3.org/1999/xlink\" width=\"100.0\" height=\"100.0\" viewBox=\"0.0 1.0 2.0 2.0\" preserveAspectRatio=\"xMinYMin meet\"><g transform=\"matrix(1,0,0,-1,0,4.0)\"><circle cx=\"1.0\" cy=\"2.0\" r=\"0.06\" stroke=\"#555555\" stroke-width=\"0.02\" fill=\"#66cc99\" opacity=\"0.6\" /></g></svg>"
      ],
      "text/plain": [
       "<shapely.geometry.point.Point at 0x201f35ec880>"
      ]
     },
     "execution_count": 12,
     "metadata": {},
     "output_type": "execute_result"
    }
   ],
   "source": [
    "# 점(Point) 만들기\n",
    "Point([x1, y1])"
   ]
  },
  {
   "cell_type": "code",
   "execution_count": 13,
   "id": "73268d72",
   "metadata": {},
   "outputs": [
    {
     "data": {
      "image/svg+xml": [
       "<svg xmlns=\"http://www.w3.org/2000/svg\" xmlns:xlink=\"http://www.w3.org/1999/xlink\" width=\"100.0\" height=\"100.0\" viewBox=\"0.96 1.96 1.08 1.08\" preserveAspectRatio=\"xMinYMin meet\"><g transform=\"matrix(1,0,0,-1,0,5.0)\"><polyline fill=\"none\" stroke=\"#66cc99\" stroke-width=\"0.0216\" points=\"1.0,2.0 2.0,2.0 2.0,3.0 1.0,3.0\" opacity=\"0.8\" /></g></svg>"
      ],
      "text/plain": [
       "<shapely.geometry.linestring.LineString at 0x201f0585c40>"
      ]
     },
     "execution_count": 13,
     "metadata": {},
     "output_type": "execute_result"
    }
   ],
   "source": [
    "LineString([(x1, y1), (x2, y2), (x3, y3), (x4, y4)])"
   ]
  },
  {
   "cell_type": "code",
   "execution_count": 14,
   "id": "18c0cb80",
   "metadata": {},
   "outputs": [
    {
     "data": {
      "image/svg+xml": [
       "<svg xmlns=\"http://www.w3.org/2000/svg\" xmlns:xlink=\"http://www.w3.org/1999/xlink\" width=\"100.0\" height=\"100.0\" viewBox=\"0.96 1.96 1.08 1.08\" preserveAspectRatio=\"xMinYMin meet\"><g transform=\"matrix(1,0,0,-1,0,5.0)\"><path fill-rule=\"evenodd\" fill=\"#66cc99\" stroke=\"#555555\" stroke-width=\"0.0216\" opacity=\"0.6\" d=\"M 1.0,2.0 L 2.0,2.0 L 2.0,3.0 L 1.0,3.0 L 1.0,2.0 z\" /></g></svg>"
      ],
      "text/plain": [
       "<shapely.geometry.polygon.Polygon at 0x201f35ecb20>"
      ]
     },
     "execution_count": 14,
     "metadata": {},
     "output_type": "execute_result"
    }
   ],
   "source": [
    "Polygon([(x1, y1), (x2, y2), (x3, y3), (x4, y4)])"
   ]
  },
  {
   "cell_type": "code",
   "execution_count": 15,
   "id": "fc0bd74d",
   "metadata": {},
   "outputs": [
    {
     "data": {
      "image/svg+xml": [
       "<svg xmlns=\"http://www.w3.org/2000/svg\" xmlns:xlink=\"http://www.w3.org/1999/xlink\" width=\"100.0\" height=\"100.0\" viewBox=\"0.96 1.96 1.08 1.08\" preserveAspectRatio=\"xMinYMin meet\"><g transform=\"matrix(1,0,0,-1,0,5.0)\"><path fill-rule=\"evenodd\" fill=\"#ff3333\" stroke=\"#555555\" stroke-width=\"0.0216\" opacity=\"0.6\" d=\"M 1.0,2.0 L 2.0,2.0 L 1.0,3.0 L 2.0,3.0 L 1.0,2.0 z\" /></g></svg>"
      ],
      "text/plain": [
       "<shapely.geometry.polygon.Polygon at 0x201f35ec6d0>"
      ]
     },
     "execution_count": 15,
     "metadata": {},
     "output_type": "execute_result"
    }
   ],
   "source": [
    "Polygon(([(x1,y1),(x2,y2),(x4,y4),(x3,y3)]))"
   ]
  },
  {
   "cell_type": "markdown",
   "id": "25847a9e",
   "metadata": {},
   "source": [
    "Polygon의 좌표는 순서가 있으므로 잘못된 순서로 출력한다면 위와 같은 결과가 출력된다."
   ]
  },
  {
   "cell_type": "code",
   "execution_count": 16,
   "id": "5691be1e",
   "metadata": {},
   "outputs": [
    {
     "data": {
      "image/png": "[encoded data removed]",
      "text/plain": [
       "<Figure size 432x288 with 1 Axes>"
      ]
     },
     "metadata": {
      "needs_background": "light"
     },
     "output_type": "display_data"
    },
    {
     "name": "stdout",
     "output_type": "stream",
     "text": [
      "Point\n",
      "LineString\n",
      "Polygon\n"
     ]
    }
   ],
   "source": [
    "import matplotlib.pyplot as plt\n",
    "\n",
    "point = Point([x1,y1])\n",
    "line = LineString([(x1,y1),(x3,y3)])\n",
    "polygon = Polygon([(x1,y1),(x2,y2),(x3,y3),(x4,y4)])\n",
    "\n",
    "ax = gpd.GeoSeries(polygon).plot( color='black', alpha=0.5)\n",
    "gpd.GeoSeries(line).plot(ax=ax, linewidth=3, color='white')\n",
    "gpd.GeoSeries(point).plot(ax=ax, color='red', markersize=100)\n",
    "plt.axis('off')\n",
    "plt.show()\n",
    "print(point.geom_type)\n",
    "print(line.geom_type)\n",
    "print(polygon.geom_type)"
   ]
  },
  {
   "cell_type": "markdown",
   "id": "0a74ff56",
   "metadata": {},
   "source": [
    "# 2. 외부데이터 활용\n",
    "\n",
    "##  2-1. 공간 데이터의 형태\n",
    "\n",
    "![data_image](./image/geopandas_001.png)\n",
    "\n",
    "외부데이터는 [서울 소방서 위치 데이터](./https://github.com/yganalyst/spatial_analysis)와 [서울 행정구역 경계 데이터](./http://data.nsdi.go.kr/dataset/15144)를 활용할 것이다.  \n",
    "소방서 위치 데이터는 csv파일로 위도 경도 좌표(Point)를 가지고 있고 행정구역 경계 데이터는 shapefile로 GIS 데이터(지리 정보)를 가지고 있다.\n",
    "\n",
    "> ### shapefile이란?\n",
    "> `dbf`, `prj`, `shp`, `shx` 이렇게 4가지 중 3가지 이상의 확장자를 가진 파일을 통틀어 shapefile이라고 하며, 한 경로에 있어야 한다.\n",
    "> - **dbd** : dBase 데이터베이스 파일로, 데이터프레임 형태의 정보를 가지고 있다.\n",
    "> - **prj** : 공간 데이터의 좌표정보(좌표계)를 가지고 있으며, 좌표 정의가 되어 있지 않을 경우 이 파일이 없을 수 있다.\n",
    "> - **shp** : vector 타입 데이터의 도형 및 정보를 담고 있다.\n",
    "> - **shx** : shp와 마찬가지이며, Auto CAD에서 주로 사용된다."
   ]
  },
  {
   "cell_type": "markdown",
   "id": "3ede523b",
   "metadata": {},
   "source": [
    "## 2-2. 공간데이터 시각화"
   ]
  },
  {
   "cell_type": "code",
   "execution_count": 21,
   "id": "06b7d358",
   "metadata": {},
   "outputs": [],
   "source": [
    "import pandas as pd"
   ]
  },
  {
   "cell_type": "code",
   "execution_count": 25,
   "id": "6cc647e4",
   "metadata": {},
   "outputs": [],
   "source": [
    "seoul_area = gpd.GeoDataFrame.from_file('./data/Seoul_area.shp', encoding='cp949')\n",
    "pt_119 = pd.read_csv('./data/서울시 안전센터관할 위치정보 (좌표계_ WGS1984).csv', encoding='CP949')"
   ]
  },
  {
   "cell_type": "code",
   "execution_count": 23,
   "id": "bc488563",
   "metadata": {},
   "outputs": [
    {
     "data": {
      "text/html": [
       "<div>\n",
       "<style scoped>\n",
       "    .dataframe tbody tr th:only-of-type {\n",
       "        vertical-align: middle;\n",
       "    }\n",
       "\n",
       "    .dataframe tbody tr th {\n",
       "        vertical-align: top;\n",
       "    }\n",
       "\n",
       "    .dataframe thead th {\n",
       "        text-align: right;\n",
       "    }\n",
       "</style>\n",
       "<table border=\"1\" class=\"dataframe\">\n",
       "  <thead>\n",
       "    <tr style=\"text-align: right;\">\n",
       "      <th></th>\n",
       "      <th>ADM_SECT_C</th>\n",
       "      <th>SGG_NM</th>\n",
       "      <th>SGG_OID</th>\n",
       "      <th>COL_ADM_SE</th>\n",
       "      <th>GID</th>\n",
       "      <th>geometry</th>\n",
       "    </tr>\n",
       "  </thead>\n",
       "  <tbody>\n",
       "    <tr>\n",
       "      <th>0</th>\n",
       "      <td>11740</td>\n",
       "      <td>媛뺣룞援</td>\n",
       "      <td>337</td>\n",
       "      <td>11740</td>\n",
       "      <td>127</td>\n",
       "      <td>POLYGON ((969713.132 1948846.288, 969692.451 1...</td>\n",
       "    </tr>\n",
       "    <tr>\n",
       "      <th>1</th>\n",
       "      <td>11710</td>\n",
       "      <td>넚뙆援</td>\n",
       "      <td>1969</td>\n",
       "      <td>11710</td>\n",
       "      <td>128</td>\n",
       "      <td>POLYGON ((968640.372 1944982.492, 968640.957 1...</td>\n",
       "    </tr>\n",
       "    <tr>\n",
       "      <th>2</th>\n",
       "      <td>11680</td>\n",
       "      <td>媛뺣궓援</td>\n",
       "      <td>33</td>\n",
       "      <td>11680</td>\n",
       "      <td>129</td>\n",
       "      <td>POLYGON ((958696.114 1948605.678, 959195.920 1...</td>\n",
       "    </tr>\n",
       "    <tr>\n",
       "      <th>3</th>\n",
       "      <td>11650</td>\n",
       "      <td>꽌珥덇뎄</td>\n",
       "      <td>33</td>\n",
       "      <td>11650</td>\n",
       "      <td>130</td>\n",
       "      <td>POLYGON ((958117.753 1940073.855, 958118.398 1...</td>\n",
       "    </tr>\n",
       "    <tr>\n",
       "      <th>4</th>\n",
       "      <td>11620</td>\n",
       "      <td>愿븙援</td>\n",
       "      <td>33</td>\n",
       "      <td>11620</td>\n",
       "      <td>131</td>\n",
       "      <td>POLYGON ((949321.250 1944035.054, 949323.256 1...</td>\n",
       "    </tr>\n",
       "  </tbody>\n",
       "</table>\n",
       "</div>"
      ],
      "text/plain": [
       "  ADM_SECT_C SGG_NM  SGG_OID COL_ADM_SE  GID  \\\n",
       "0      11740   媛뺣룞援      337      11740  127   \n",
       "1      11710    넚뙆援     1969      11710  128   \n",
       "2      11680   媛뺣궓援       33      11680  129   \n",
       "3      11650   꽌珥덇뎄       33      11650  130   \n",
       "4      11620    愿븙援       33      11620  131   \n",
       "\n",
       "                                            geometry  \n",
       "0  POLYGON ((969713.132 1948846.288, 969692.451 1...  \n",
       "1  POLYGON ((968640.372 1944982.492, 968640.957 1...  \n",
       "2  POLYGON ((958696.114 1948605.678, 959195.920 1...  \n",
       "3  POLYGON ((958117.753 1940073.855, 958118.398 1...  \n",
       "4  POLYGON ((949321.250 1944035.054, 949323.256 1...  "
      ]
     },
     "execution_count": 23,
     "metadata": {},
     "output_type": "execute_result"
    }
   ],
   "source": [
    "seoul_area.head()"
   ]
  },
  {
   "cell_type": "code",
   "execution_count": 24,
   "id": "6fac9524",
   "metadata": {},
   "outputs": [
    {
     "data": {
      "text/html": [
       "<div>\n",
       "<style scoped>\n",
       "    .dataframe tbody tr th:only-of-type {\n",
       "        vertical-align: middle;\n",
       "    }\n",
       "\n",
       "    .dataframe tbody tr th {\n",
       "        vertical-align: top;\n",
       "    }\n",
       "\n",
       "    .dataframe thead th {\n",
       "        text-align: right;\n",
       "    }\n",
       "</style>\n",
       "<table border=\"1\" class=\"dataframe\">\n",
       "  <thead>\n",
       "    <tr style=\"text-align: right;\">\n",
       "      <th></th>\n",
       "      <th>고유번호</th>\n",
       "      <th>센터ID</th>\n",
       "      <th>센터명</th>\n",
       "      <th>위도</th>\n",
       "      <th>경도</th>\n",
       "    </tr>\n",
       "  </thead>\n",
       "  <tbody>\n",
       "    <tr>\n",
       "      <th>0</th>\n",
       "      <td>21</td>\n",
       "      <td>1121101</td>\n",
       "      <td>양천119안전센터</td>\n",
       "      <td>37.527161</td>\n",
       "      <td>126.869452</td>\n",
       "    </tr>\n",
       "    <tr>\n",
       "      <th>1</th>\n",
       "      <td>22</td>\n",
       "      <td>1122101</td>\n",
       "      <td>신내119안전센터</td>\n",
       "      <td>37.610246</td>\n",
       "      <td>127.096473</td>\n",
       "    </tr>\n",
       "    <tr>\n",
       "      <th>2</th>\n",
       "      <td>42</td>\n",
       "      <td>1115104</td>\n",
       "      <td>서초119안전센터</td>\n",
       "      <td>37.487773</td>\n",
       "      <td>127.017145</td>\n",
       "    </tr>\n",
       "    <tr>\n",
       "      <th>3</th>\n",
       "      <td>3</td>\n",
       "      <td>1106102</td>\n",
       "      <td>이촌119안전센터</td>\n",
       "      <td>37.527841</td>\n",
       "      <td>126.958318</td>\n",
       "    </tr>\n",
       "    <tr>\n",
       "      <th>4</th>\n",
       "      <td>4</td>\n",
       "      <td>1106104</td>\n",
       "      <td>후암119안전센터</td>\n",
       "      <td>37.544896</td>\n",
       "      <td>126.981242</td>\n",
       "    </tr>\n",
       "  </tbody>\n",
       "</table>\n",
       "</div>"
      ],
      "text/plain": [
       "   고유번호     센터ID        센터명         위도          경도\n",
       "0    21  1121101  양천119안전센터  37.527161  126.869452\n",
       "1    22  1122101  신내119안전센터  37.610246  127.096473\n",
       "2    42  1115104  서초119안전센터  37.487773  127.017145\n",
       "3     3  1106102  이촌119안전센터  37.527841  126.958318\n",
       "4     4  1106104  후암119안전센터  37.544896  126.981242"
      ]
     },
     "execution_count": 24,
     "metadata": {},
     "output_type": "execute_result"
    }
   ],
   "source": [
    "pt_119.head()"
   ]
  },
  {
   "cell_type": "markdown",
   "id": "94f124b3",
   "metadata": {},
   "source": [
    "## shp 파일에는 지리 정보인 Polygon이 있으나 csv 파일의 경우에는 단순한 데이터 프레임이므로 지리 정보가 없다. 따라서 지리 정보를 만들어주어야 한다."
   ]
  },
  {
   "cell_type": "code",
   "execution_count": 26,
   "id": "bc93edfe",
   "metadata": {},
   "outputs": [
    {
     "data": {
      "text/html": [
       "<div>\n",
       "<style scoped>\n",
       "    .dataframe tbody tr th:only-of-type {\n",
       "        vertical-align: middle;\n",
       "    }\n",
       "\n",
       "    .dataframe tbody tr th {\n",
       "        vertical-align: top;\n",
       "    }\n",
       "\n",
       "    .dataframe thead th {\n",
       "        text-align: right;\n",
       "    }\n",
       "</style>\n",
       "<table border=\"1\" class=\"dataframe\">\n",
       "  <thead>\n",
       "    <tr style=\"text-align: right;\">\n",
       "      <th></th>\n",
       "      <th>고유번호</th>\n",
       "      <th>센터ID</th>\n",
       "      <th>센터명</th>\n",
       "      <th>위도</th>\n",
       "      <th>경도</th>\n",
       "      <th>geometry</th>\n",
       "    </tr>\n",
       "  </thead>\n",
       "  <tbody>\n",
       "    <tr>\n",
       "      <th>0</th>\n",
       "      <td>21</td>\n",
       "      <td>1121101</td>\n",
       "      <td>양천119안전센터</td>\n",
       "      <td>37.527161</td>\n",
       "      <td>126.869452</td>\n",
       "      <td>POINT (126.86945 37.52716)</td>\n",
       "    </tr>\n",
       "    <tr>\n",
       "      <th>1</th>\n",
       "      <td>22</td>\n",
       "      <td>1122101</td>\n",
       "      <td>신내119안전센터</td>\n",
       "      <td>37.610246</td>\n",
       "      <td>127.096473</td>\n",
       "      <td>POINT (127.09647 37.61025)</td>\n",
       "    </tr>\n",
       "    <tr>\n",
       "      <th>2</th>\n",
       "      <td>42</td>\n",
       "      <td>1115104</td>\n",
       "      <td>서초119안전센터</td>\n",
       "      <td>37.487773</td>\n",
       "      <td>127.017145</td>\n",
       "      <td>POINT (127.01714 37.48777)</td>\n",
       "    </tr>\n",
       "    <tr>\n",
       "      <th>3</th>\n",
       "      <td>3</td>\n",
       "      <td>1106102</td>\n",
       "      <td>이촌119안전센터</td>\n",
       "      <td>37.527841</td>\n",
       "      <td>126.958318</td>\n",
       "      <td>POINT (126.95832 37.52784)</td>\n",
       "    </tr>\n",
       "    <tr>\n",
       "      <th>4</th>\n",
       "      <td>4</td>\n",
       "      <td>1106104</td>\n",
       "      <td>후암119안전센터</td>\n",
       "      <td>37.544896</td>\n",
       "      <td>126.981242</td>\n",
       "      <td>POINT (126.98124 37.54490)</td>\n",
       "    </tr>\n",
       "  </tbody>\n",
       "</table>\n",
       "</div>"
      ],
      "text/plain": [
       "   고유번호     센터ID        센터명         위도          경도                    geometry\n",
       "0    21  1121101  양천119안전센터  37.527161  126.869452  POINT (126.86945 37.52716)\n",
       "1    22  1122101  신내119안전센터  37.610246  127.096473  POINT (127.09647 37.61025)\n",
       "2    42  1115104  서초119안전센터  37.487773  127.017145  POINT (127.01714 37.48777)\n",
       "3     3  1106102  이촌119안전센터  37.527841  126.958318  POINT (126.95832 37.52784)\n",
       "4     4  1106104  후암119안전센터  37.544896  126.981242  POINT (126.98124 37.54490)"
      ]
     },
     "execution_count": 26,
     "metadata": {},
     "output_type": "execute_result"
    }
   ],
   "source": [
    "pt_119['경도'] = pt_119['경도'].astype(float)\n",
    "pt_119['위도'] = pt_119['위도'].astype(float)\n",
    "pt_119['geometry'] = pt_119.apply(lambda row : Point([row['경도'], row['위도']]), axis=1)\n",
    "pt_119 = gpd.GeoDataFrame(pt_119, geometry='geometry')\n",
    "\n",
    "pt_119.head()"
   ]
  },
  {
   "cell_type": "markdown",
   "id": "d6d0d0a4",
   "metadata": {},
   "source": [
    "## 2-3. 좌표 정의 및 변환"
   ]
  },
  {
   "cell_type": "markdown",
   "id": "018c68b8",
   "metadata": {},
   "source": [
    "공간 데이터를 다룰 때는 좌표계가 중요하며, 다루는 데이터에 정의된 좌표계를 알아야 변환할 수 있다. 또한 GIS 데이터를 저장할 때에는 좌표계의 이름을 명시해주도록 하자. \n",
    "\n",
    "대표적으로 위경도, 미터 좌표계가 있는데 국내에서는 주로 아래의 좌표계를 사용한다.\n",
    "- EPSG4326(WGS84) : 위경도, 기본좌표계\n",
    "- EPSG5179(TM) : 미터 좌표계\n",
    "- EPSG5174(TM) : 미터 좌표계\n",
    "- EPSG5181(TM) : 미터 좌표계\n",
    "데이터의 좌표계를 모르면 활용할 수 없다. 따라서, 좌표계를 아는 것은 중요하다.\n",
    "\n",
    "좌표계 확인 및 정의는 `.crs`인자로, 변환은 `.to_crs` 인자로 가능하다."
   ]
  },
  {
   "cell_type": "code",
   "execution_count": 27,
   "id": "dd4fb787",
   "metadata": {},
   "outputs": [
    {
     "name": "stdout",
     "output_type": "stream",
     "text": [
      "epsg:5179\n",
      "None\n"
     ]
    }
   ],
   "source": [
    "print(seoul_area.crs)\n",
    "print(pt_119.crs)"
   ]
  },
  {
   "cell_type": "markdown",
   "id": "5cab1e29",
   "metadata": {},
   "source": [
    "서울 소방서의 위치 데이터는 아직 좌표 정의가 되어있지않다.  \n",
    "파일명에 기본 좌표계로 명시되어 있으므로 다음과 같이 정의해주자."
   ]
  },
  {
   "cell_type": "code",
   "execution_count": 28,
   "id": "bdf837f7",
   "metadata": {},
   "outputs": [
    {
     "name": "stdout",
     "output_type": "stream",
     "text": [
      "+init=epsg:4326 +type=crs\n"
     ]
    },
    {
     "name": "stderr",
     "output_type": "stream",
     "text": [
      "C:\\Users\\wotjd\\Anaconda3\\lib\\site-packages\\pyproj\\crs\\crs.py:68: FutureWarning: '+init=<authority>:<code>' syntax is deprecated. '<authority>:<code>' is the preferred initialization method. When making the change, be mindful of axis order changes: https://pyproj4.github.io/pyproj/stable/gotchas.html#axis-order-changes-in-proj-6\n",
      "  return _prepare_from_string(\" \".join(pjargs))\n"
     ]
    }
   ],
   "source": [
    "pt_119.crs = {'init':'epsg:4326'}\n",
    "print(pt_119.crs)"
   ]
  },
  {
   "cell_type": "markdown",
   "id": "af64e5ba",
   "metadata": {},
   "source": [
    "두 데이터의 좌표계가 다르면 같이 처리할 수 없으므로,  \n",
    "같은 좌표계로 변경해주자."
   ]
  },
  {
   "cell_type": "code",
   "execution_count": 29,
   "id": "d1c1423b",
   "metadata": {},
   "outputs": [],
   "source": [
    "pt_119 = pt_119.to_crs({'init':'epsg:5179'})"
   ]
  },
  {
   "cell_type": "markdown",
   "id": "8b83d415",
   "metadata": {},
   "source": [
    "두 데이터를 모두 시각화"
   ]
  },
  {
   "cell_type": "code",
   "execution_count": 30,
   "id": "1edafa20",
   "metadata": {},
   "outputs": [
    {
     "data": {
      "image/png": "[encoded data removed]",
      "text/plain": [
       "<Figure size 576x576 with 1 Axes>"
      ]
     },
     "metadata": {
      "needs_background": "light"
     },
     "output_type": "display_data"
    }
   ],
   "source": [
    "ax = seoul_area.plot(column=\"SGG_NM\", figsize=(8,8), alpha=0.8)\n",
    "pt_119.plot(ax=ax, marker='v', color='black', label='Firestation')\n",
    "ax.set_title(\"Seoul\", fontsize=20)\n",
    "ax.set_axis_off()\n",
    "plt.legend()\n",
    "plt.show()"
   ]
  },
  {
   "cell_type": "markdown",
   "id": "06b5e1ac",
   "metadata": {},
   "source": [
    "확인 결과,  서울 지도 데이터의 서초구 데이터가 잘못되어 있다.  \n",
    "해당 데이터는 [QGIS](../QGIS/qgis_tutorial.md)를 통해 해결해주자."
   ]
  },
  {
   "cell_type": "markdown",
   "id": "74101100",
   "metadata": {},
   "source": [
    "# 3. 공간 정보 데이터 처리"
   ]
  },
  {
   "cell_type": "markdown",
   "id": "0e6684df",
   "metadata": {},
   "source": [
    "## 3-1. 객체 속성\n",
    "   1. [`area`](#area) : 면적 계산\n",
    "   2. [`length`](#length) : 길이 계산\n",
    "   3. [`boundary`](#boundary) : 테두리(LineString 객체)\n",
    "   4. [`exterior`](#exterior) : 테두리(LineRing 객체)\n",
    "   5. [`centroid`](#centroid) : 무게중심점\n",
    "   6. [`xy`](#xy) : Point 객체 좌표 반환\n",
    "   7. [`coords`](#coords) : LinString 객체 좌표 반환\n",
    "   8. [`is_valid`](#is_valid) : 도형 유효성 검사(boolean)\n",
    "   9. [`geom_type`](#geom_type) : 공간 객체 타입"
   ]
  },
  {
   "cell_type": "markdown",
   "id": "214ba441",
   "metadata": {},
   "source": [
    "### area"
   ]
  },
  {
   "cell_type": "code",
   "execution_count": 40,
   "id": "ee2f5ab4",
   "metadata": {},
   "outputs": [
    {
     "data": {
      "text/plain": [
       "0    2.453758e+07\n",
       "1    3.383061e+07\n",
       "2    3.946631e+07\n",
       "3    4.685083e+07\n",
       "4    2.954112e+07\n",
       "dtype: float64"
      ]
     },
     "execution_count": 40,
     "metadata": {},
     "output_type": "execute_result"
    }
   ],
   "source": [
    "# area\n",
    "seoul_area.geometry.area.head()"
   ]
  },
  {
   "cell_type": "markdown",
   "id": "72d79eae",
   "metadata": {},
   "source": [
    "### length"
   ]
  },
  {
   "cell_type": "code",
   "execution_count": 41,
   "id": "c16d4a24",
   "metadata": {
    "scrolled": true
   },
   "outputs": [
    {
     "data": {
      "text/plain": [
       "0    24029.227412\n",
       "1    30532.219899\n",
       "2    35504.681042\n",
       "3    43978.564653\n",
       "4    27448.698426\n",
       "dtype: float64"
      ]
     },
     "execution_count": 41,
     "metadata": {},
     "output_type": "execute_result"
    }
   ],
   "source": [
    "seoul_area.geometry.length.head()"
   ]
  },
  {
   "cell_type": "markdown",
   "id": "1787e7c2",
   "metadata": {},
   "source": [
    "polygon의 `length`는 테두리의 길이(둘레)이다."
   ]
  },
  {
   "cell_type": "markdown",
   "id": "d4624c27",
   "metadata": {},
   "source": [
    "### boundary"
   ]
  },
  {
   "cell_type": "code",
   "execution_count": 42,
   "id": "272daf84",
   "metadata": {},
   "outputs": [
    {
     "data": {
      "image/svg+xml": [
       "<svg xmlns=\"http://www.w3.org/2000/svg\" xmlns:xlink=\"http://www.w3.org/1999/xlink\" width=\"300\" height=\"300\" viewBox=\"965179.6368400756 1946158.1747997436 7173.539567141794 7711.384138822788\" preserveAspectRatio=\"xMinYMin meet\"><g transform=\"matrix(1,0,0,-1,0,3900027.7337383097)\"><polyline fill=\"none\" stroke=\"#66cc99\" stroke-width=\"51.40922759215192\" points=\"969713.132225119,1948846.28818384 969692.451286363,1948838.57482495 969692.330628743,1948793.74973042 969688.052733716,1948779.12704793 969685.922053781,1948774.88398098 969678.733614019,1948759.56999878 969671.912054044,1948750.67159983 969656.708843501,1948736.13881735 969653.470890084,1948736.66678435 969642.091548732,1948731.25021319 969638.812931835,1948727.68997026 969611.803859729,1948724.77231826 969603.521625285,1948693.38832289 969581.879650156,1948659.19725129 969543.227782676,1948600.02999294 969540.284268044,1948591.23298845 969524.225064897,1948548.35165437 969507.851597406,1948505.02015853 969477.683989607,1948450.85397588 969432.958615955,1948411.70520163 969414.672196908,1948351.45835272 969392.433172556,1948317.59030757 969408.843717916,1948227.98078063 969408.904917064,1948227.64558514 969412.826999732,1948206.25702105 969416.817317392,1948177.18505253 969424.139572507,1948123.82476592 969405.572734485,1948084.22145252 969396.092564616,1948075.58004332 969374.705081948,1948058.65995376 969370.023690921,1948025.80641795 969371.173384511,1948024.5118204 969379.41199584,1948012.39979991 969388.678742193,1947959.46004091 969352.235827326,1947905.34108655 969366.296244207,1947852.12001985 969361.086104906,1947826.44152494 969354.980124749,1947812.23336541 969320.863555542,1947778.34028708 969312.603308958,1947748.08172372 969282.600545505,1947720.2974809 969219.541888038,1947656.93817341 969194.551658013,1947624.71405794 969143.661958973,1947563.17252428 969138.632213688,1947555.68806816 969109.817735742,1947509.55856873 969062.645760878,1947491.42962185 969028.050243926,1947443.93029109 969025.917880844,1947440.87776924 969037.251060678,1947394.38756111 969038.157011074,1947390.10540467 969027.464730106,1947359.85072013 969006.142233024,1947338.78185766 969003.697291737,1947331.44763859 968987.350840845,1947283.77362282 968987.026312036,1947271.38910401 968985.793828026,1947260.07898546 968949.047994532,1947198.21456284 968949.136773734,1947157.24483982 968911.984286767,1947127.48422783 968880.870273973,1947068.82270967 968877.939801887,1947041.92258178 968713.057461554,1947021.0436434 968698.607207482,1947019.38288181 968689.481907755,1947018.47660292 968687.284430956,1946979.55520095 968687.209502732,1946979.37466748 968682.5751074,1946968.21152168 968678.430356547,1946958.33728517 968675.40454912,1946952.11771349 968673.377150364,1946949.2545602 968669.046572901,1946940.90872154 968666.938528308,1946933.76763871 968664.760461111,1946926.80585817 968660.307654206,1946917.84190464 968654.167000744,1946901.8046146 968652.23792211,1946894.2927253 968651.280287798,1946887.87826504 968647.316689975,1946878.61183414 968643.095619905,1946866.4078961 968641.663601005,1946861.5843394 968640.841289969,1946856.9384825 968639.896202372,1946851.38262588 968636.831843264,1946838.07597962 968634.972512741,1946834.48321526 968630.713455352,1946826.61781211 968627.925040156,1946819.35738103 968625.506436995,1946812.27692052 968622.268125157,1946801.2303281 968619.656496093,1946792.81040505 968615.984900052,1946780.73550409 968612.433235946,1946768.27911381 968610.758497174,1946762.73611965 968612.078475412,1946759.05453659 968611.331525927,1946756.55745484 968612.230441645,1946752.45626485 968610.794961808,1946746.6021219 968611.740988702,1946741.58203506 968611.967984819,1946736.69270936 968614.206402903,1946721.65261977 968614.442879597,1946709.49703415 968615.462711478,1946705.76606111 968615.019720793,1946678.7577807 968612.093202983,1946668.44925157 968617.121329071,1946649.78276765 968619.019322416,1946638.22214663 968620.534646622,1946625.75290294 968619.118279227,1946623.12841831 968618.072475574,1946609.50619276 968617.56865863,1946597.05264558 968613.723519594,1946579.57973656 968616.13456673,1946554.48259438 968621.164357031,1946536.69576454 968626.019530219,1946517.27048964 968629.708821683,1946506.0842306 968635.975668376,1946487.45416822 968634.947469752,1946480.5502694 968634.970019979,1946466.69447094 968636.817470214,1946457.29128988 968635.675041628,1946457.31633556 968637.291082152,1946450.46040286 968638.866077441,1946443.7816197 968625.616408025,1946450.80814931 968620.180352581,1946450.96990026 968565.616991079,1946468.45739143 968555.958705629,1946469.96800404 968528.479024751,1946474.26400757 968524.970278263,1946474.81239475 968514.28666926,1946480.71575573 968501.197029191,1946487.94835949 968488.182130382,1946495.13758395 968310.908847724,1946596.01450062 968259.434043255,1946624.39845506 968187.177768338,1946664.01925668 968173.643299007,1946671.44115087 968099.766339938,1946712.13713825 968060.39587054,1946734.29233265 968053.117901603,1946729.43277392 968040.623584838,1946733.3744909 968027.748175159,1946740.66694344 968023.113615556,1946753.05476064 968024.9904056,1946753.90548622 967984.970208056,1946776.25405409 967981.267582847,1946778.32088839 967921.861196836,1946811.49507054 967918.48952926,1946813.38921698 967877.666747798,1946836.32481938 967876.093036669,1946837.20882252 967800.948604774,1946879.42497251 967798.440043899,1946880.83572946 967796.941121776,1946881.68534948 967758.489480178,1946903.49881873 967756.242096513,1946904.77324357 967743.344628018,1946913.18538877 967682.298769889,1946947.28592404 967682.536327771,1946992.11749426 967685.091682303,1946985.76638095 967681.362283192,1946995.0425975 967682.573034235,1946999.04464658 967683.007053688,1947080.95097566 967681.237780912,1947080.96035106 967646.797484312,1946967.11651847 967507.783261426,1947044.94362898 967482.966423913,1947058.83986394 967441.186417782,1947082.23238742 967400.592425865,1947104.95888077 967283.63426057,1947170.43383573 967253.16632542,1947187.48882646 967191.542802036,1947221.99230619 967170.792313445,1947233.60786632 967089.863464008,1947278.91956192 967084.302067985,1947282.02785586 966900.388159413,1947384.98348713 966884.969793199,1947393.61192843 966685.63748918,1947505.19604932 966629.973955679,1947536.35924985 966486.305155915,1947616.78021854 966361.5430561,1947686.62500991 966359.589685865,1947687.73494259 966344.081615234,1947696.41385033 966413.532553499,1947837.39184038 966436.965757223,1947884.94945021 966456.621900044,1947929.9600556 966461.866800804,1947942.57843114 966468.291257181,1947960.10168042 966478.922886075,1947991.91716764 966484.460949536,1948011.75423275 966490.569670676,1948035.3398411 966506.543105917,1948095.98199987 966529.792742677,1948184.72085057 966557.031625115,1948277.37504966 966592.313824033,1948397.0692696 966622.78580946,1948502.04160865 966646.50167248,1948584.24945974 966652.405947522,1948604.71633527 966664.414509004,1948646.42073064 966690.688670385,1948735.84425222 966693.380217837,1948745.0044808 966733.163132595,1948880.42179216 966693.793550318,1948898.21977124 966645.022342882,1948920.12604009 966644.211583602,1948920.49020051 966641.703649532,1948921.64206031 966641.801955687,1948921.89544223 966595.637613373,1948950.56430707 966593.559277086,1948951.85983398 966593.040599492,1948952.2604316 966570.518440375,1948970.40893918 966552.862048883,1948984.33825473 966547.983324979,1948988.18765753 966535.638200536,1948997.83544196 966533.185791858,1948999.84468034 966514.037249942,1949015.90109811 966505.055690782,1949023.63477643 966490.463277181,1949036.0834104 966461.720121852,1949060.57349267 966452.761489559,1949068.2950549 966410.177677012,1949098.64230405 966406.467515543,1949101.36194202 966392.658481163,1949108.8473181 966375.136983372,1949118.42958238 966367.435297413,1949122.6488164 966351.338165699,1949131.4598217 966333.943213555,1949140.02280463 966328.156517379,1949142.86940699 966329.751229187,1949145.94677566 966337.349854868,1949156.98226746 966335.037559163,1949158.08011137 966330.443290164,1949151.66492377 966303.801383047,1949162.21119 966284.203568024,1949169.51033855 966276.675436372,1949172.33818379 966264.233731989,1949176.96740012 966256.980983808,1949179.69882181 966247.295843779,1949183.31280665 966234.133014139,1949188.24373257 966217.122664054,1949194.68548705 966212.220440276,1949196.93062887 966197.522830973,1949202.35850509 966194.797843559,1949198.0166126 966123.587250913,1949250.48425984 966120.93052853,1949251.47697096 966098.448685329,1949259.8839956 966093.372703226,1949261.7851907 966089.61603263,1949263.65140232 966075.854020368,1949268.31660924 966058.518131836,1949275.01099646 966054.947787173,1949276.38640715 966052.974570855,1949277.14658214 966035.541817024,1949283.85947635 965981.748578544,1949303.51827197 965978.719601915,1949304.62491421 965940.861839436,1949318.54238695 965891.203142633,1949337.65846591 965867.116479972,1949346.55082098 965861.557519421,1949348.42159011 965856.759916703,1949350.03741853 965842.619231917,1949355.30340731 965816.486311039,1949365.32018729 965821.736431025,1949384.1981509 965821.95873638,1949386.15722551 965695.500710482,1949386.49877102 965465.243660032,1949387.12071262 965547.27890963,1949557.09292817 965565.391707023,1949593.98981577 965618.004735123,1949695.24821255 965665.544226975,1949786.42434728 965669.433390458,1949791.4478062 965678.249730769,1949806.66225032 965684.880065558,1950186.33448853 965697.649076685,1950181.59756055 965697.661393705,1950186.18274893 965688.225183383,1950186.21978834 965688.586289352,1950199.65075777 965697.740137775,1950215.73807496 965908.128216386,1950585.4551911 965933.473813687,1950627.72862591 965970.858049087,1950741.86380408 966010.217326329,1950861.80128334 966049.531505501,1950984.91877929 966052.968734727,1950997.08390602 966200.165351641,1951187.97218117 966203.365294711,1951192.14961061 966205.818603032,1951193.89193006 966214.593945443,1951200.99566301 966239.034817508,1951219.69186029 966256.023842239,1951232.98065542 966290.332670436,1951259.91735223 966298.92780583,1951266.59220364 966307.943314713,1951273.74464238 966322.818268365,1951285.3602903 966354.252024943,1951309.81518426 966375.137951964,1951326.19312173 966398.668169373,1951344.51228796 966413.093235418,1951355.9283967 966417.661308485,1951359.47480656 966422.719458924,1951363.25952524 966447.658681745,1951383.75438342 966701.185729544,1951636.83958 966951.505244682,1951782.17184225 966975.940780638,1951796.65964618 967011.483821017,1951817.88493548 967094.896374421,1951867.90920627 967154.469310275,1951903.47349775 967201.776063124,1951931.14689088 967262.574792053,1951954.32340864 967372.420323292,1951998.14876237 967452.546642527,1952030.37024963 967503.219968447,1952050.10480192 967587.226338205,1952082.99443495 967630.546225528,1952100.42088626 967673.655320236,1952117.11773395 967702.114168873,1952128.18847677 967743.985838115,1952135.85934588 967791.656052158,1952143.48646094 967836.030083834,1952150.65324291 967890.978272192,1952160.12103017 967949.099737994,1952169.87086904 968002.445661363,1952179.17421957 968202.055265677,1952178.63418555 968701.856280809,1952177.28247907 968701.856270204,1952177.28047989 968998.941014271,1952176.50527944 969202.061259745,1952326.75861478 969533.050153002,1952574.97458349 969702.801659206,1952675.38203766 970052.342074782,1952973.48305313 970155.180657432,1953054.54498132 970203.734325404,1953092.48964571 970574.786448954,1953340.30057919 970704.589738413,1953341.69706738 970884.205342363,1953343.76789967 971024.328282575,1953370.53880174 971204.398808205,1953439.14447632 971207.401025081,1953440.34607597 971226.402873522,1953447.54243171 971245.905150675,1953454.85608552 971265.457420148,1953462.36039991 971280.918316924,1953468.36601066 971293.295818304,1953473.13046798 971310.527189954,1953479.73145038 971313.349741093,1953480.9829841 971336.954176018,1953497.10345447 971362.279785432,1953513.947508 971379.254208909,1953525.43796078 971394.00551406,1953535.61372233 971407.104745097,1953544.52474233 971425.971831994,1953557.40860831 971438.329176576,1953565.72179708 971494.58717042,1953583.95211861 971493.170786523,1953555.51764469 971492.005217631,1953527.63162703 971491.329228644,1953514.20841168 971490.276539853,1953512.87151691 971487.941981028,1953503.74144322 971489.925252353,1953494.14063274 971492.653181791,1953471.34197893 971492.844773034,1953464.87346611 971493.00427839,1953435.02517459 971486.908115245,1953409.68134369 971485.603500883,1953400.2389238 971479.226827127,1953386.08225068 971469.876545379,1953369.3333643 971463.777560416,1953362.29746037 971457.241609172,1953352.78683364 971446.625074612,1953340.98475275 971439.204785759,1953332.47643163 971426.089594068,1953321.31036647 971420.49001943,1953317.40260038 971413.942958945,1953315.59505043 971407.490064674,1953311.56486088 971401.252870085,1953305.79819845 971397.45000553,1953301.5900119 971394.559420959,1953298.63149948 971391.034143297,1953293.23529929 971388.263846344,1953291.28175943 971379.37015241,1953289.56063116 971366.488329866,1953285.64052188 971361.67805699,1953283.16601126 971355.497773938,1953279.8361033 971342.28993644,1953269.67214035 971339.893027488,1953262.543621 971338.87191702,1953252.46294162 971338.220797252,1953239.58138224 971337.196144093,1953232.78944901 971335.926766964,1953224.90123889 971335.479455585,1953218.78098137 971334.910218617,1953212.4774419 971333.039059955,1953200.62995786 971332.251509243,1953196.70065837 971332.11003885,1953189.81907211 971334.689446251,1953176.51852824 971334.512475194,1953172.74292853 971331.211710343,1953158.79284583 971331.467125806,1953151.73022309 971331.719900447,1953144.54666116 971334.715325528,1953139.19283433 971339.964347609,1953132.23166832 971342.626859673,1953125.17426776 971346.71624497,1953120.64631518 971347.942762214,1953114.80406612 971347.982975888,1953108.44131489 971348.484824243,1953099.21722076 971349.269575982,1953083.02432185 971350.617727719,1953078.06408597 971352.204246178,1953076.39331201 971354.10244486,1953069.97472111 971355.246814042,1953059.19981701 971357.269845627,1953049.55581179 971358.874763007,1953036.46835831 971362.069087934,1953018.48636325 971365.483551058,1952996.21286072 971369.657549513,1952969.76194381 971369.761836963,1952958.89559554 971369.469108083,1952953.83810639 971368.999567098,1952950.12203653 971368.891833272,1952945.64234193 971367.288149929,1952940.49784419 971366.225859145,1952932.64052289 971364.756439697,1952922.46825821 971363.678189026,1952910.28369617 971363.315348109,1952901.99682881 971362.220008228,1952885.2721144 971363.870878287,1952877.83123223 971366.051051894,1952873.3124101 971383.410057328,1952841.98240543 971392.343958522,1952825.28045469 971398.077360924,1952808.43954389 971399.085591078,1952800.45428347 971401.506951231,1952795.23445297 971417.099320173,1952782.49763044 971433.765818004,1952763.26862061 971439.633229636,1952750.20753667 971445.934776986,1952739.27632445 971459.138227834,1952723.93119148 971463.694269591,1952718.43014131 971468.906084112,1952711.61511956 971472.916076785,1952706.8186947 971475.61030012,1952701.7813461 971479.465266865,1952692.44650095 971482.166789581,1952685.58182108 971482.592618051,1952684.07314519 971485.095827944,1952678.07718154 971485.672092627,1952675.53110888 971487.788373037,1952668.01278808 971490.430840848,1952662.26398977 971491.751287293,1952659.61800638 971494.219620521,1952655.71541754 971494.978496415,1952654.61681543 971500.134533337,1952647.65114861 971508.254066871,1952631.00850079 971511.803482058,1952621.17047264 971517.776758122,1952612.80201211 971522.320171468,1952608.50056542 971527.984949507,1952602.65376597 971532.087951644,1952597.48899091 971534.48163172,1952593.08099427 971542.043015042,1952583.90641815 971542.184046696,1952583.54580932 971543.01260727,1952582.01600446 971549.769213798,1952569.43301916 971552.922825822,1952558.47252682 971553.399662531,1952556.40379726 971554.775421096,1952548.54453921 971554.443551033,1952547.97951921 971547.511902838,1952540.19132069 971547.559755968,1952537.9059516 971547.688135138,1952537.0446038 971551.005900119,1952506.52781241 971551.338608645,1952503.48222598 971553.133760417,1952499.49624261 971559.27654895,1952485.39510335 971559.710040177,1952484.57711958 971560.272690103,1952483.04472701 971560.763139372,1952480.90395316 971562.914825825,1952472.33385277 971563.821598508,1952468.96534494 971563.998731919,1952468.6265361 971570.440119861,1952459.37093634 971581.144367551,1952443.993085 971584.055594761,1952438.78365279 971586.723668254,1952433.90438314 971588.677990076,1952430.52731957 971589.353964346,1952429.06429882 971593.003904231,1952420.65118706 971593.59998857,1952419.39151154 971593.630960095,1952418.2577862 971593.937011255,1952416.21695233 971594.050953532,1952415.46064053 971594.934718601,1952407.7549345 971595.070089991,1952405.76198785 971596.025379728,1952398.34878899 971597.14889188,1952398.3388306 971598.934848533,1952386.7778298 971599.050890631,1952386.41735358 971600.133450182,1952382.45614262 971602.161000158,1952375.54705837 971604.073247835,1952368.94946541 971606.66482691,1952360.01417271 971608.987652635,1952352.04793099 971609.340374035,1952350.51365334 971610.414459435,1952347.59308444 971615.207286945,1952336.6039058 971616.071265688,1952334.59010077 971617.054741319,1952332.30176792 971622.515644895,1952319.67967652 971622.606677766,1952315.16993991 971622.822492781,1952314.773948 971624.765617887,1952311.73581298 971630.310718481,1952303.30265273 971630.816049954,1952302.64822454 971631.489759957,1952301.51208936 971634.246483943,1952297.32708104 971638.678804617,1952290.92703874 971644.601984403,1952282.34792892 971646.314293054,1952279.13908502 971654.908719406,1952262.88677181 971655.965930979,1952260.93091906 971658.558095092,1952256.06304871 971658.631337938,1952255.92571323 971664.658919302,1952243.47255028 971666.060569811,1952239.17477682 971668.867450509,1952230.12338753 971668.979489018,1952229.76193298 971670.841036879,1952223.78237046 971671.924967431,1952220.6448337 971672.265743391,1952215.72792977 971673.023315906,1952207.78798495 971673.290079863,1952203.61718479 971674.432401666,1952192.07759253 971675.534010461,1952181.71975861 971675.97146942,1952179.01148619 971677.302181801,1952169.25520356 971680.825620721,1952153.38865186 971681.845873517,1952148.23423433 971682.541810088,1952133.95107366 971685.866356654,1952117.14794038 971690.967341967,1952098.10724729 971696.246939578,1952088.80583413 971691.092607269,1952074.42175697 971690.441403388,1952045.69134104 971690.121872612,1952026.91131089 971691.135963308,1951997.03850072 971692.981231831,1951981.77062298 971692.99468103,1951945.48460681 971693.224401495,1951926.79162846 971694.430522695,1951915.02978434 971696.910742873,1951878.69169911 971698.82775887,1951871.67324557 971699.827168239,1951865.98114732 971700.074581272,1951864.56938135 971700.301144021,1951862.61893466 971703.155571601,1951840.85821758 971710.193226734,1951816.80719088 971720.635049856,1951791.90543109 971734.636069032,1951769.18494135 971748.581562521,1951751.82666958 971756.657253483,1951739.91943218 971772.507105569,1951703.54442428 971775.955939937,1951696.41488682 971779.715634976,1951688.90484741 971783.466311783,1951682.14456542 971794.4496197,1951665.66567253 971805.927035236,1951639.81978771 971813.80959589,1951615.62333853 971826.873079741,1951599.32933806 971836.128475791,1951580.29060702 971843.636307037,1951565.35255972 971851.728112366,1951544.60966363 971855.153091363,1951532.22828915 971858.884851844,1951518.50880557 971861.788964869,1951512.89957052 971865.463241796,1951500.02706389 971867.216814768,1951494.2320055 971872.362368099,1951482.08441178 971872.753932517,1951475.62283833 971871.565584212,1951468.49690503 971874.106004436,1951461.4111721 971875.906774554,1951454.337359 971878.507490438,1951447.50020988 971881.74374456,1951431.76413755 971885.988101117,1951422.90605102 971890.512558445,1951406.54838496 971893.345023366,1951396.66518702 971897.400733885,1951388.23693507 971901.955870927,1951379.73706115 971904.929584477,1951374.05748478 971906.928710306,1951368.94985763 971914.391911216,1951340.50728412 971912.524138633,1951327.59719759 971912.081541269,1951310.48917661 971917.368636386,1951286.5793924 971918.189964328,1951275.39237072 971915.178182381,1951255.79994371 971916.647239756,1951247.43639113 971916.245142655,1951224.58238237 971912.892783625,1951192.22770851 971906.107167886,1951161.83548882 971902.723829634,1951150.02701561 971902.741081373,1951134.61989544 971897.457673378,1951118.32424183 971892.783376697,1951081.36036665 971893.418340548,1951058.59282174 971890.722815139,1951042.65230033 971883.349009916,1951008.41069116 971883.114439191,1951000.93483289 971877.082650173,1950978.48053528 971875.679918679,1950969.19257662 971874.077826061,1950959.0679998 971876.910726836,1950921.55750751 971883.680787812,1950888.51139802 971884.517414332,1950878.51183492 971884.427820963,1950874.0580363 971884.018790957,1950861.01626062 971883.232975975,1950845.34850152 971882.6436978,1950832.2467053 971885.201040076,1950823.26162053 971884.986784771,1950786.25210028 971879.100724763,1950759.04387058 971878.917927305,1950758.12619597 971870.829754653,1950729.41623008 971869.998255251,1950732.65438628 971867.372937948,1950725.05126004 971858.828999938,1950667.13402983 971867.175259798,1950641.96750639 971867.723291137,1950601.67321452 971865.696743976,1950576.72763224 971865.296913569,1950569.37860125 971865.043308088,1950564.72175125 971863.534220219,1950537.63825232 971862.364566484,1950531.58580257 971861.762982369,1950519.55565584 971860.694928155,1950513.62362044 971858.980861857,1950508.58466586 971857.601928512,1950502.84120648 971854.616911672,1950482.63787042 971853.517963154,1950450.14329227 971860.627804078,1950427.06851883 971875.852539772,1950408.71386989 971885.458053223,1950399.33255179 971912.258469909,1950378.18158306 971925.555852357,1950367.53717132 971946.101905793,1950350.57375802 971966.531376129,1950335.75413287 971993.741617467,1950315.1657758 971996.829953431,1950300.93890896 972003.013474673,1950272.45715008 972009.92100159,1950240.63584583 972008.317392592,1950193.65056762 972001.244742444,1950194.33082015 971995.481407344,1950162.55171112 971992.626029907,1950146.81295855 971990.316043422,1950116.85982336 971990.388540328,1950081.89299426 971989.971306552,1950079.55611332 971989.718201771,1950073.10795558 971985.06172306,1950057.4067416 971990.409639134,1950040.06009953 971992.148327016,1950031.83306646 971992.302465537,1950030.55074598 972005.206795839,1949968.96417436 971988.146143136,1949928.56832696 971982.359934727,1949914.72038599 971972.52202746,1949892.52617086 971972.100677134,1949889.97839337 971972.030024999,1949888.15347554 971971.385907986,1949887.33021112 971969.617607478,1949885.07046631 971969.610956016,1949884.75862248 971969.33535663,1949870.86247102 971969.225645641,1949858.84271231 971968.922166173,1949854.77090039 971968.940665838,1949852.79256915 971967.757581323,1949846.09144192 971970.016789469,1949842.14798765 971971.197158172,1949840.4183974 971973.572168395,1949833.4295095 971973.786441718,1949807.10157896 971974.073917829,1949793.82620036 971973.89198545,1949778.55408553 971975.335115494,1949770.76545048 971975.57578895,1949769.40170262 971976.554030981,1949763.86266128 971975.788165147,1949756.66751259 971973.426626732,1949755.07365591 971975.159294455,1949752.30953745 971976.046446156,1949743.73015786 971976.584844684,1949732.34371619 971979.62110133,1949720.17033121 971982.206342423,1949715.12557498 971995.110452126,1949703.6455834 972045.622642308,1949648.54803539 972067.569587261,1949629.40205651 972044.817233461,1949584.68406877 972009.389886541,1949605.40893196 971983.795803096,1949630.29602956 971974.789939639,1949623.06459814 971947.882027155,1949632.80453682 971926.951154786,1949646.57121419 971905.966217148,1949693.88217802 971882.19896702,1949726.60155613 971843.702000772,1949741.70688707 971724.815019329,1949741.51153027 971707.296522094,1949740.89268676 971673.631658226,1949740.91123543 971592.814083143,1949709.26114169 971581.763415212,1949713.41914313 971579.016685898,1949711.76135342 971578.777011362,1949711.61668064 971541.451108963,1949694.20439487 971522.618498767,1949685.36170417 971509.890023908,1949679.25257938 971449.144316542,1949651.4955101 971448.280333021,1949636.91773527 971449.546048023,1949621.87284574 971448.236457835,1949615.82113403 971445.069326012,1949609.72029331 971435.20972887,1949605.11736809 971430.671259693,1949605.26338259 971420.136946198,1949612.35450963 971415.158390664,1949616.0344905 971409.671578625,1949621.51447043 971404.398354526,1949626.93234164 971396.748311135,1949632.21087303 971386.594277713,1949636.74297407 971377.372966446,1949638.65114369 971373.52475339,1949636.63333478 971366.524048164,1949625.61972736 971358.449072827,1949612.96845121 971356.893385739,1949606.12635 971356.348542515,1949600.64835959 971353.896347707,1949591.19402409 971347.234555686,1949593.5754351 971332.097306041,1949594.87521655 971324.369076466,1949590.68582633 971305.461411344,1949593.8948664 971292.733688804,1949596.03554299 971273.48638791,1949598.9115135 971258.514248224,1949597.22757375 971244.350956332,1949599.34487347 971230.005391967,1949601.58609205 971220.524042715,1949614.2154935 971217.553634007,1949630.89079742 971214.553720287,1949647.65722269 971196.914208845,1949637.03588793 971194.004132751,1949635.30099349 971193.999133673,1949633.2268223 971168.32568577,1949628.63076695 971149.920402991,1949631.94910154 971149.706098323,1949632.25312059 971132.100091851,1949632.09955882 971120.615987533,1949630.6770184 971068.225291213,1949627.29219719 971035.079731047,1949628.54151161 971006.859361266,1949617.55343486 970987.73861257,1949612.24789831 970982.605340259,1949603.52649555 970942.89204975,1949583.04304341 970914.151967113,1949574.52276679 970881.40662907,1949559.62919551 970847.733349641,1949551.46694353 970827.790385101,1949548.32392988 970814.870336689,1949550.76750995 970794.537358421,1949558.52935138 970744.795851605,1949586.67529344 970694.062778812,1949584.09836468 970689.351259743,1949580.64068897 970687.160766118,1949579.25684132 970667.659224337,1949577.16907896 970635.609889137,1949580.4288016 970610.622753635,1949591.97086989 970596.025191646,1949594.00750543 970590.593306552,1949594.76502236 970581.88492391,1949593.30477344 970574.214370462,1949584.91169708 970570.112975173,1949574.16859809 970568.173771531,1949569.08684533 970561.255192159,1949550.75061962 970565.99111787,1949525.25034787 970576.732175592,1949495.68679616 970576.113782791,1949493.87077713 970574.084240729,1949490.22694812 970551.407142497,1949487.99208247 970520.356371746,1949494.07141781 970509.858440949,1949494.82880283 970476.973748646,1949497.2072938 970476.009332262,1949497.62424779 970467.721035949,1949497.34231492 970433.207111301,1949504.6495446 970429.228036203,1949508.8710189 970429.012001705,1949508.66024603 970423.50482984,1949514.4492199 970424.337589562,1949524.26901306 970421.771983251,1949530.56718935 970396.789806865,1949537.57798147 970382.808562427,1949537.0803259 970369.314177926,1949541.87104732 970359.925250723,1949550.44053648 970351.37055662,1949554.21245261 970339.94377874,1949552.2917982 970322.704130722,1949560.71998035 970311.128528927,1949560.14159737 970293.564151433,1949565.0148738 970273.474721235,1949573.65408971 970268.528445672,1949574.18511861 970262.06214022,1949573.46869063 970258.05241667,1949573.79483135 970255.289440206,1949573.9754158 970253.423948402,1949573.55847074 970251.104323152,1949573.271884 970245.385799251,1949570.68321222 970244.751081868,1949571.06743037 970228.472418645,1949549.58405556 970222.727911662,1949539.64335745 970214.072880965,1949525.43274283 970214.508919725,1949524.15192428 970214.326852472,1949523.18326356 970207.603544671,1949513.77455117 970205.028571219,1949515.10069646 970194.022218351,1949496.51024136 970184.152608037,1949477.01110743 970157.534273057,1949442.20470563 970115.764352019,1949401.66087178 970076.087609087,1949345.0871141 970045.381261333,1949296.40473506 970038.500030546,1949281.9078186 970025.957420473,1949255.04869266 970011.482463119,1949231.37758488 969991.442390868,1949198.60649815 969972.44274537,1949186.35598202 969957.212712815,1949172.79797794 969939.47004065,1949168.93056348 969932.737688111,1949160.83238854 969928.205545852,1949138.60299178 969926.9606383,1949132.49594772 969926.035958399,1949127.96359845 969902.281649912,1949114.29983981 969898.047620279,1949108.8953768 969884.277118097,1949099.12616998 969871.632035978,1949072.35854524 969826.565167485,1949019.13905057 969808.412615171,1948991.12810886 969801.584851372,1948984.4538888 969783.965335821,1948967.23696023 969755.592700021,1948938.09065128 969732.860566862,1948902.84877696 969725.663250321,1948874.73477435 969713.132225119,1948846.28818384\" opacity=\"0.8\" /></g></svg>"
      ],
      "text/plain": [
       "<shapely.geometry.linestring.LineString at 0x201f5c15820>"
      ]
     },
     "execution_count": 42,
     "metadata": {},
     "output_type": "execute_result"
    }
   ],
   "source": [
    "# boundary\n",
    "seoul_area.geometry[0].boundary"
   ]
  },
  {
   "cell_type": "markdown",
   "id": "3afa5f0d",
   "metadata": {},
   "source": [
    "`boundary`는 polygon 객체의 둘레로 `lineString`객체를 반환"
   ]
  },
  {
   "cell_type": "markdown",
   "id": "7d2602ed",
   "metadata": {},
   "source": [
    "### centroid"
   ]
  },
  {
   "cell_type": "code",
   "execution_count": 43,
   "id": "70fa9296",
   "metadata": {},
   "outputs": [
    {
     "data": {
      "text/plain": [
       "0    POINT (968820.295 1950182.074)\n",
       "1    POINT (965998.688 1945219.460)\n",
       "2    POINT (961369.995 1944245.952)\n",
       "3    POINT (958548.929 1941666.568)\n",
       "4    POINT (950951.582 1941050.947)\n",
       "dtype: geometry"
      ]
     },
     "execution_count": 43,
     "metadata": {},
     "output_type": "execute_result"
    }
   ],
   "source": [
    "# centroid\n",
    "seoul_area.geometry.centroid.head()"
   ]
  },
  {
   "cell_type": "markdown",
   "id": "01afe1bb",
   "metadata": {},
   "source": [
    "### xy와 coords"
   ]
  },
  {
   "cell_type": "code",
   "execution_count": 44,
   "id": "f6b73f8f",
   "metadata": {},
   "outputs": [
    {
     "name": "stdout",
     "output_type": "stream",
     "text": [
      "(array('d', [944285.7077635808]), array('d', [1947726.3905374545]))\n",
      "<shapely.coords.CoordinateSequence object at 0x00000201F5D33370>\n",
      "[(944285.7077635808, 1947726.3905374545)]\n"
     ]
    }
   ],
   "source": [
    "#xy와 coords\n",
    "print(pt_119['geometry'][0].xy)\n",
    "print(pt_119['geometry'][0].coords)\n",
    "print(list(pt_119['geometry'][0].coords))"
   ]
  },
  {
   "cell_type": "markdown",
   "id": "7b736dd3",
   "metadata": {},
   "source": [
    "`xy`와 `coords`는 사실 shaply의 공간 객체인 `Point`와 `LineString`의 속성이기 때문에 `GeoDataFrame`과 `GeoSeries`에 바로 적용할 수 없다.    \n",
    "또한, Polygon의 좌표를 가져오기 위해서는 `boundary`로 `LineString` 객체를 만들고 `coords` 속성을 list 타입으로 추출하여야한다."
   ]
  },
  {
   "cell_type": "markdown",
   "id": "b86ee346",
   "metadata": {},
   "source": [
    "### is_valid"
   ]
  },
  {
   "cell_type": "code",
   "execution_count": 45,
   "id": "048b1f8e",
   "metadata": {},
   "outputs": [
    {
     "data": {
      "text/plain": [
       "0     True\n",
       "1    False\n",
       "2     True\n",
       "3     True\n",
       "4     True\n",
       "dtype: bool"
      ]
     },
     "execution_count": 45,
     "metadata": {},
     "output_type": "execute_result"
    }
   ],
   "source": [
    "# is_is valid\n",
    "seoul_area.geometry.is_valid.head()"
   ]
  },
  {
   "cell_type": "markdown",
   "id": "76ebb4da",
   "metadata": {},
   "source": [
    "`is_valid`는 도형의 타당성을 확인하는 속성이다.   \n",
    "실제 데이터를 사용하다보면, 좌표가 잘못되어 있거나 선이 잘못 그려져 있는데 데이터를 심심치 않게 볼 수 있다.   \n",
    "[QGIS Tutorial](./QGIS/qgis_tutorial.md)에 수정하는 방법이 있으니 참고하자."
   ]
  },
  {
   "cell_type": "markdown",
   "id": "e8b67c7c",
   "metadata": {},
   "source": [
    "## 3-2. 공간 관계"
   ]
  },
  {
   "cell_type": "markdown",
   "id": "333630a6",
   "metadata": {},
   "source": [
    "   1. `within` : 포함되는지 여부\n",
    "   2. `cotain` : 포함하고 있는 지 여부\n",
    "   3. `intersects` : 교차하는지 여부 (경계 포함)\n",
    "   4. `crosses` : 교차하는지 여부 (경계 미포함)\n",
    "   5. `distance` : 두 공간 사이의 직선(최단)거리 (유클리디안 거리)"
   ]
  },
  {
   "cell_type": "code",
   "execution_count": null,
   "id": "1499cb86",
   "metadata": {},
   "outputs": [],
   "source": []
  }
 ],
 "metadata": {
  "kernelspec": {
   "display_name": "Python 3",
   "language": "python",
   "name": "python3"
  },
  "language_info": {
   "codemirror_mode": {
    "name": "ipython",
    "version": 3
   },
   "file_extension": ".py",
   "mimetype": "text/x-python",
   "name": "python",
   "nbconvert_exporter": "python",
   "pygments_lexer": "ipython3",
   "version": "3.8.8"
  }
 },
 "nbformat": 4,
 "nbformat_minor": 5
}
