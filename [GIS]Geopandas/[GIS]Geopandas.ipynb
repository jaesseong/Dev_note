{
 "cells": [
  {
   "cell_type": "markdown",
   "id": "6130923f",
   "metadata": {},
   "source": [
    "# [GIS<sup>Geospatial Information System</sup>]Geopandas Tutorial\n",
    "이 내용은 [yg's blog](https://yganalyst.github.io/spatial_analysis/spatial_analysis_1/)를 보고 공부하기 위해 작성한 내용입니다."
   ]
  },
  {
   "cell_type": "markdown",
   "id": "e923fb88",
   "metadata": {},
   "source": [
    "# 목차"
   ]
  },
  {
   "cell_type": "markdown",
   "id": "4cc25b5a",
   "metadata": {},
   "source": [
    "# GIS<sup>Geospatial Information System</sup>란?\n",
    "지도를 점<sup>Point</sup>, 선<sup>Line</sup> 또는 영역<sup>Polygon</sup>과 같은 지리 정보 데이터로 변환하여 효율적으로 활용하기 위한 정보 시스템\n",
    "<img src=\"https://yganalyst.github.io/assets/images/gis_logo.jpg\" alt=\"GIS\" height=50% width=50%>\n"
   ]
  },
  {
   "cell_type": "markdown",
   "id": "e2ccfb8a",
   "metadata": {},
   "source": [
    "## GIS Data\n",
    "지리 정보 데이터는 크게 Vector과 Raster로 나누어 지는데 Raster는 객체들을 이미지 형태의 나타내는 데이터이고, 객체들의 지리적 위치를 방향성, 크기로 나타낸 데이터\n",
    "<img src=\"https://t1.daumcdn.net/cfile/blog/2225E44051B96FE51F\" height=50% width=50%>"
   ]
  },
  {
   "cell_type": "markdown",
   "id": "693f93fa",
   "metadata": {},
   "source": [
    "# Geopandas\n",
    "- Python에서 지리 공간 데이터 작업을 보다 쉽게 수행할 수 있는 오픈 소스 프로젝트\n",
    "- Pandas가 사용하는 데이터 유형을 확장(`GeoSeries`, `GeoDataFrame`)하여 기하학적 유형에 대한 공간 작업을 지원\n",
    "- 기하학적 작업은 [shapely](https://shapely.readthedocs.io/en/stable/), 파일 액세스는 [fiona](https://fiona.readthedocs.io/en/latest/), plotting은 [matplotlib](https://matplotlib.org/)에 의존"
   ]
  },
  {
   "cell_type": "markdown",
   "id": "24a7c9bf",
   "metadata": {},
   "source": [
    "## Geopandas 설치\n",
    "Anaconda Prompt\n",
    "```\n",
    "conda install -c conda-forge geopandas\n",
    "```"
   ]
  },
  {
   "cell_type": "markdown",
   "id": "abb5e7b4",
   "metadata": {},
   "source": [
    "## 1. 공간 데이터 생성\n",
    "Geopandas는 `shapely`라는 패키지를 사용하여 기하학적 작업을 진행하는데, 이 패키지에는 세 가지 Vector 타입 이외에 MultiPolygon, MultiLinestring 등이 있다."
   ]
  },
  {
   "cell_type": "code",
   "execution_count": 1,
   "id": "02b86f0d",
   "metadata": {},
   "outputs": [],
   "source": [
    "import geopandas as gpd\n",
    "from shapely.geometry import Polygon, LineString, Point"
   ]
  },
  {
   "cell_type": "code",
   "execution_count": 2,
   "id": "b3e93120",
   "metadata": {},
   "outputs": [],
   "source": [
    "# 4개의 좌표 설정\n",
    "x1, y1 = 1, 2\n",
    "x2, y2 = 2, 2\n",
    "x3, y3 = 2, 3\n",
    "x4, y4 = 1, 3"
   ]
  },
  {
   "cell_type": "code",
   "execution_count": 3,
   "id": "a707d777",
   "metadata": {},
   "outputs": [
    {
     "data": {
      "image/svg+xml": [
       "<svg xmlns=\"http://www.w3.org/2000/svg\" xmlns:xlink=\"http://www.w3.org/1999/xlink\" width=\"100.0\" height=\"100.0\" viewBox=\"0.0 1.0 2.0 2.0\" preserveAspectRatio=\"xMinYMin meet\"><g transform=\"matrix(1,0,0,-1,0,4.0)\"><circle cx=\"1.0\" cy=\"2.0\" r=\"0.06\" stroke=\"#555555\" stroke-width=\"0.02\" fill=\"#66cc99\" opacity=\"0.6\" /></g></svg>"
      ],
      "text/plain": [
       "<shapely.geometry.point.Point at 0x26bf7ff7ac8>"
      ]
     },
     "execution_count": 3,
     "metadata": {},
     "output_type": "execute_result"
    }
   ],
   "source": [
    "# 점(Point) 만들기\n",
    "Point([x1, y1])"
   ]
  },
  {
   "cell_type": "code",
   "execution_count": 4,
   "id": "73268d72",
   "metadata": {},
   "outputs": [
    {
     "data": {
      "image/svg+xml": [
       "<svg xmlns=\"http://www.w3.org/2000/svg\" xmlns:xlink=\"http://www.w3.org/1999/xlink\" width=\"100.0\" height=\"100.0\" viewBox=\"0.96 1.96 1.08 1.08\" preserveAspectRatio=\"xMinYMin meet\"><g transform=\"matrix(1,0,0,-1,0,5.0)\"><polyline fill=\"none\" stroke=\"#66cc99\" stroke-width=\"0.0216\" points=\"1.0,2.0 2.0,2.0 2.0,3.0 1.0,3.0\" opacity=\"0.8\" /></g></svg>"
      ],
      "text/plain": [
       "<shapely.geometry.linestring.LineString at 0x26bf7ffaa88>"
      ]
     },
     "execution_count": 4,
     "metadata": {},
     "output_type": "execute_result"
    }
   ],
   "source": [
    "LineString([(x1, y1), (x2, y2), (x3, y3), (x4, y4)])"
   ]
  },
  {
   "cell_type": "code",
   "execution_count": 5,
   "id": "18c0cb80",
   "metadata": {},
   "outputs": [
    {
     "data": {
      "image/svg+xml": [
       "<svg xmlns=\"http://www.w3.org/2000/svg\" xmlns:xlink=\"http://www.w3.org/1999/xlink\" width=\"100.0\" height=\"100.0\" viewBox=\"0.96 1.96 1.08 1.08\" preserveAspectRatio=\"xMinYMin meet\"><g transform=\"matrix(1,0,0,-1,0,5.0)\"><path fill-rule=\"evenodd\" fill=\"#66cc99\" stroke=\"#555555\" stroke-width=\"0.0216\" opacity=\"0.6\" d=\"M 1.0,2.0 L 2.0,2.0 L 2.0,3.0 L 1.0,3.0 L 1.0,2.0 z\" /></g></svg>"
      ],
      "text/plain": [
       "<shapely.geometry.polygon.Polygon at 0x26bf7ffafc8>"
      ]
     },
     "execution_count": 5,
     "metadata": {},
     "output_type": "execute_result"
    }
   ],
   "source": [
    "Polygon([(x1, y1), (x2, y2), (x3, y3), (x4, y4)])"
   ]
  },
  {
   "cell_type": "code",
   "execution_count": 6,
   "id": "fc0bd74d",
   "metadata": {},
   "outputs": [
    {
     "data": {
      "image/svg+xml": [
       "<svg xmlns=\"http://www.w3.org/2000/svg\" xmlns:xlink=\"http://www.w3.org/1999/xlink\" width=\"100.0\" height=\"100.0\" viewBox=\"0.96 1.96 1.08 1.08\" preserveAspectRatio=\"xMinYMin meet\"><g transform=\"matrix(1,0,0,-1,0,5.0)\"><path fill-rule=\"evenodd\" fill=\"#ff3333\" stroke=\"#555555\" stroke-width=\"0.0216\" opacity=\"0.6\" d=\"M 1.0,2.0 L 2.0,2.0 L 1.0,3.0 L 2.0,3.0 L 1.0,2.0 z\" /></g></svg>"
      ],
      "text/plain": [
       "<shapely.geometry.polygon.Polygon at 0x26bf80085c8>"
      ]
     },
     "execution_count": 6,
     "metadata": {},
     "output_type": "execute_result"
    }
   ],
   "source": [
    "Polygon(([(x1,y1),(x2,y2),(x4,y4),(x3,y3)]))"
   ]
  },
  {
   "cell_type": "markdown",
   "id": "25847a9e",
   "metadata": {},
   "source": [
    "Polygon의 좌표는 순서가 있으므로 잘못된 순서로 출력한다면 위와 같은 결과가 출력된다."
   ]
  },
  {
   "cell_type": "code",
   "execution_count": 7,
   "id": "5691be1e",
   "metadata": {},
   "outputs": [
    {
     "data": {
      "image/png": "[encoded data removed]",
      "text/plain": [
       "<Figure size 432x288 with 1 Axes>"
      ]
     },
     "metadata": {
      "needs_background": "light"
     },
     "output_type": "display_data"
    },
    {
     "name": "stdout",
     "output_type": "stream",
     "text": [
      "Point\n",
      "LineString\n",
      "Polygon\n"
     ]
    }
   ],
   "source": [
    "import matplotlib.pyplot as plt\n",
    "\n",
    "point = Point([x1,y1])\n",
    "line = LineString([(x1,y1),(x3,y3)])\n",
    "polygon = Polygon([(x1,y1),(x2,y2),(x3,y3),(x4,y4)])\n",
    "\n",
    "ax = gpd.GeoSeries(polygon).plot( color='black', alpha=0.5)\n",
    "gpd.GeoSeries(line).plot(ax=ax, linewidth=3, color='white')\n",
    "gpd.GeoSeries(point).plot(ax=ax, color='red', markersize=100)\n",
    "plt.axis('off')\n",
    "plt.show()\n",
    "print(point.geom_type)\n",
    "print(line.geom_type)\n",
    "print(polygon.geom_type)"
   ]
  },
  {
   "cell_type": "markdown",
   "id": "0a74ff56",
   "metadata": {},
   "source": [
    "# 2. 외부데이터 활용\n",
    "\n",
    "##  2-1. 공간 데이터의 형태\n",
    "\n",
    "![data_image](./image/geopandas_001.png)\n",
    "\n",
    "외부데이터는 [서울 소방서 위치 데이터](./https://github.com/yganalyst/spatial_analysis)와 [서울 행정구역 경계 데이터](./http://data.nsdi.go.kr/dataset/15144)를 활용할 것이다.  \n",
    "소방서 위치 데이터는 csv파일로 위도 경도 좌표(Point)를 가지고 있고 행정구역 경계 데이터는 shapefile로 GIS 데이터(지리 정보)를 가지고 있다.\n",
    "\n",
    "> ### shapefile이란?\n",
    "> `dbf`, `prj`, `shp`, `shx` 이렇게 4가지 중 3가지 이상의 확장자를 가진 파일을 통틀어 shapefile이라고 하며, 한 경로에 있어야 한다.\n",
    "> - **dbd** : dBase 데이터베이스 파일로, 데이터프레임 형태의 정보를 가지고 있다.\n",
    "> - **prj** : 공간 데이터의 좌표정보(좌표계)를 가지고 있으며, 좌표 정의가 되어 있지 않을 경우 이 파일이 없을 수 있다.\n",
    "> - **shp** : vector 타입 데이터의 도형 및 정보를 담고 있다.\n",
    "> - **shx** : shp와 마찬가지이며, Auto CAD에서 주로 사용된다."
   ]
  },
  {
   "cell_type": "markdown",
   "id": "3ede523b",
   "metadata": {},
   "source": [
    "## 2-2. 공간데이터 시각화"
   ]
  },
  {
   "cell_type": "code",
   "execution_count": 71,
   "id": "06b7d358",
   "metadata": {},
   "outputs": [],
   "source": [
    "import pandas as pd"
   ]
  },
  {
   "cell_type": "code",
   "execution_count": 72,
   "id": "6cc647e4",
   "metadata": {},
   "outputs": [],
   "source": [
    "seoul_area = gpd.GeoDataFrame.from_file('C:/Users/bauser01/Desktop/practice_data/LARD_ADM_SECT_SGG_11.shp', encoding='cp949')\n",
    "pt_119 = pd.read_csv('C:/Users/bauser01/Desktop/practice_data/서울시 안전센터관할 위치정보 (좌표계_ WGS1984).csv', encoding='CP949')"
   ]
  },
  {
   "cell_type": "code",
   "execution_count": 73,
   "id": "bc488563",
   "metadata": {},
   "outputs": [
    {
     "data": {
      "text/html": [
       "<div>\n",
       "<style scoped>\n",
       "    .dataframe tbody tr th:only-of-type {\n",
       "        vertical-align: middle;\n",
       "    }\n",
       "\n",
       "    .dataframe tbody tr th {\n",
       "        vertical-align: top;\n",
       "    }\n",
       "\n",
       "    .dataframe thead th {\n",
       "        text-align: right;\n",
       "    }\n",
       "</style>\n",
       "<table border=\"1\" class=\"dataframe\">\n",
       "  <thead>\n",
       "    <tr style=\"text-align: right;\">\n",
       "      <th></th>\n",
       "      <th>ADM_SECT_C</th>\n",
       "      <th>SGG_NM</th>\n",
       "      <th>SGG_OID</th>\n",
       "      <th>COL_ADM_SE</th>\n",
       "      <th>GID</th>\n",
       "      <th>geometry</th>\n",
       "    </tr>\n",
       "  </thead>\n",
       "  <tbody>\n",
       "    <tr>\n",
       "      <th>0</th>\n",
       "      <td>11650</td>\n",
       "      <td>서초구</td>\n",
       "      <td>34</td>\n",
       "      <td>11650</td>\n",
       "      <td>253</td>\n",
       "      <td>POLYGON ((958724.887 2040339.138, 958725.529 2...</td>\n",
       "    </tr>\n",
       "    <tr>\n",
       "      <th>1</th>\n",
       "      <td>11740</td>\n",
       "      <td>강동구</td>\n",
       "      <td>337</td>\n",
       "      <td>11740</td>\n",
       "      <td>127</td>\n",
       "      <td>POLYGON ((969713.132 1948846.288, 969692.451 1...</td>\n",
       "    </tr>\n",
       "    <tr>\n",
       "      <th>2</th>\n",
       "      <td>11710</td>\n",
       "      <td>송파구</td>\n",
       "      <td>1969</td>\n",
       "      <td>11710</td>\n",
       "      <td>128</td>\n",
       "      <td>POLYGON ((968640.372 1944982.492, 968640.957 1...</td>\n",
       "    </tr>\n",
       "    <tr>\n",
       "      <th>3</th>\n",
       "      <td>11680</td>\n",
       "      <td>강남구</td>\n",
       "      <td>33</td>\n",
       "      <td>11680</td>\n",
       "      <td>129</td>\n",
       "      <td>POLYGON ((958696.114 1948605.678, 959195.920 1...</td>\n",
       "    </tr>\n",
       "    <tr>\n",
       "      <th>4</th>\n",
       "      <td>11650</td>\n",
       "      <td>서초구</td>\n",
       "      <td>33</td>\n",
       "      <td>11650</td>\n",
       "      <td>130</td>\n",
       "      <td>POLYGON ((958117.753 1940073.855, 958118.398 1...</td>\n",
       "    </tr>\n",
       "  </tbody>\n",
       "</table>\n",
       "</div>"
      ],
      "text/plain": [
       "  ADM_SECT_C SGG_NM  SGG_OID COL_ADM_SE  GID  \\\n",
       "0      11650    서초구       34      11650  253   \n",
       "1      11740    강동구      337      11740  127   \n",
       "2      11710    송파구     1969      11710  128   \n",
       "3      11680    강남구       33      11680  129   \n",
       "4      11650    서초구       33      11650  130   \n",
       "\n",
       "                                            geometry  \n",
       "0  POLYGON ((958724.887 2040339.138, 958725.529 2...  \n",
       "1  POLYGON ((969713.132 1948846.288, 969692.451 1...  \n",
       "2  POLYGON ((968640.372 1944982.492, 968640.957 1...  \n",
       "3  POLYGON ((958696.114 1948605.678, 959195.920 1...  \n",
       "4  POLYGON ((958117.753 1940073.855, 958118.398 1...  "
      ]
     },
     "execution_count": 73,
     "metadata": {},
     "output_type": "execute_result"
    }
   ],
   "source": [
    "seoul_area.head()"
   ]
  },
  {
   "cell_type": "code",
   "execution_count": 74,
   "id": "6fac9524",
   "metadata": {},
   "outputs": [
    {
     "data": {
      "text/html": [
       "<div>\n",
       "<style scoped>\n",
       "    .dataframe tbody tr th:only-of-type {\n",
       "        vertical-align: middle;\n",
       "    }\n",
       "\n",
       "    .dataframe tbody tr th {\n",
       "        vertical-align: top;\n",
       "    }\n",
       "\n",
       "    .dataframe thead th {\n",
       "        text-align: right;\n",
       "    }\n",
       "</style>\n",
       "<table border=\"1\" class=\"dataframe\">\n",
       "  <thead>\n",
       "    <tr style=\"text-align: right;\">\n",
       "      <th></th>\n",
       "      <th>고유번호</th>\n",
       "      <th>센터ID</th>\n",
       "      <th>센터명</th>\n",
       "      <th>위도</th>\n",
       "      <th>경도</th>\n",
       "    </tr>\n",
       "  </thead>\n",
       "  <tbody>\n",
       "    <tr>\n",
       "      <th>0</th>\n",
       "      <td>21</td>\n",
       "      <td>1121101</td>\n",
       "      <td>양천119안전센터</td>\n",
       "      <td>37.527161</td>\n",
       "      <td>126.869452</td>\n",
       "    </tr>\n",
       "    <tr>\n",
       "      <th>1</th>\n",
       "      <td>22</td>\n",
       "      <td>1122101</td>\n",
       "      <td>신내119안전센터</td>\n",
       "      <td>37.610246</td>\n",
       "      <td>127.096473</td>\n",
       "    </tr>\n",
       "    <tr>\n",
       "      <th>2</th>\n",
       "      <td>42</td>\n",
       "      <td>1115104</td>\n",
       "      <td>서초119안전센터</td>\n",
       "      <td>37.487773</td>\n",
       "      <td>127.017145</td>\n",
       "    </tr>\n",
       "    <tr>\n",
       "      <th>3</th>\n",
       "      <td>3</td>\n",
       "      <td>1106102</td>\n",
       "      <td>이촌119안전센터</td>\n",
       "      <td>37.527841</td>\n",
       "      <td>126.958318</td>\n",
       "    </tr>\n",
       "    <tr>\n",
       "      <th>4</th>\n",
       "      <td>4</td>\n",
       "      <td>1106104</td>\n",
       "      <td>후암119안전센터</td>\n",
       "      <td>37.544896</td>\n",
       "      <td>126.981242</td>\n",
       "    </tr>\n",
       "  </tbody>\n",
       "</table>\n",
       "</div>"
      ],
      "text/plain": [
       "   고유번호     센터ID        센터명         위도          경도\n",
       "0    21  1121101  양천119안전센터  37.527161  126.869452\n",
       "1    22  1122101  신내119안전센터  37.610246  127.096473\n",
       "2    42  1115104  서초119안전센터  37.487773  127.017145\n",
       "3     3  1106102  이촌119안전센터  37.527841  126.958318\n",
       "4     4  1106104  후암119안전센터  37.544896  126.981242"
      ]
     },
     "execution_count": 74,
     "metadata": {},
     "output_type": "execute_result"
    }
   ],
   "source": [
    "pt_119.head()"
   ]
  },
  {
   "cell_type": "markdown",
   "id": "94f124b3",
   "metadata": {},
   "source": [
    "shp 파일에는 지리 정보인 Polygon이 있으나 csv 파일의 경우에는 단순한 데이터 프레임이므로 지리 정보가 없다. 따라서 지리 정보를 만들어주어야 한다."
   ]
  },
  {
   "cell_type": "code",
   "execution_count": 78,
   "id": "bc93edfe",
   "metadata": {},
   "outputs": [
    {
     "data": {
      "text/html": [
       "<div>\n",
       "<style scoped>\n",
       "    .dataframe tbody tr th:only-of-type {\n",
       "        vertical-align: middle;\n",
       "    }\n",
       "\n",
       "    .dataframe tbody tr th {\n",
       "        vertical-align: top;\n",
       "    }\n",
       "\n",
       "    .dataframe thead th {\n",
       "        text-align: right;\n",
       "    }\n",
       "</style>\n",
       "<table border=\"1\" class=\"dataframe\">\n",
       "  <thead>\n",
       "    <tr style=\"text-align: right;\">\n",
       "      <th></th>\n",
       "      <th>고유번호</th>\n",
       "      <th>센터ID</th>\n",
       "      <th>센터명</th>\n",
       "      <th>위도</th>\n",
       "      <th>경도</th>\n",
       "      <th>geometry</th>\n",
       "    </tr>\n",
       "  </thead>\n",
       "  <tbody>\n",
       "    <tr>\n",
       "      <th>0</th>\n",
       "      <td>21</td>\n",
       "      <td>1121101</td>\n",
       "      <td>양천119안전센터</td>\n",
       "      <td>37.527161</td>\n",
       "      <td>126.869452</td>\n",
       "      <td>POINT (126.86945 37.52716)</td>\n",
       "    </tr>\n",
       "    <tr>\n",
       "      <th>1</th>\n",
       "      <td>22</td>\n",
       "      <td>1122101</td>\n",
       "      <td>신내119안전센터</td>\n",
       "      <td>37.610246</td>\n",
       "      <td>127.096473</td>\n",
       "      <td>POINT (127.09647 37.61025)</td>\n",
       "    </tr>\n",
       "    <tr>\n",
       "      <th>2</th>\n",
       "      <td>42</td>\n",
       "      <td>1115104</td>\n",
       "      <td>서초119안전센터</td>\n",
       "      <td>37.487773</td>\n",
       "      <td>127.017145</td>\n",
       "      <td>POINT (127.01714 37.48777)</td>\n",
       "    </tr>\n",
       "    <tr>\n",
       "      <th>3</th>\n",
       "      <td>3</td>\n",
       "      <td>1106102</td>\n",
       "      <td>이촌119안전센터</td>\n",
       "      <td>37.527841</td>\n",
       "      <td>126.958318</td>\n",
       "      <td>POINT (126.95832 37.52784)</td>\n",
       "    </tr>\n",
       "    <tr>\n",
       "      <th>4</th>\n",
       "      <td>4</td>\n",
       "      <td>1106104</td>\n",
       "      <td>후암119안전센터</td>\n",
       "      <td>37.544896</td>\n",
       "      <td>126.981242</td>\n",
       "      <td>POINT (126.98124 37.54490)</td>\n",
       "    </tr>\n",
       "  </tbody>\n",
       "</table>\n",
       "</div>"
      ],
      "text/plain": [
       "   고유번호     센터ID        센터명         위도          경도                    geometry\n",
       "0    21  1121101  양천119안전센터  37.527161  126.869452  POINT (126.86945 37.52716)\n",
       "1    22  1122101  신내119안전센터  37.610246  127.096473  POINT (127.09647 37.61025)\n",
       "2    42  1115104  서초119안전센터  37.487773  127.017145  POINT (127.01714 37.48777)\n",
       "3     3  1106102  이촌119안전센터  37.527841  126.958318  POINT (126.95832 37.52784)\n",
       "4     4  1106104  후암119안전센터  37.544896  126.981242  POINT (126.98124 37.54490)"
      ]
     },
     "execution_count": 78,
     "metadata": {},
     "output_type": "execute_result"
    }
   ],
   "source": [
    "pt_119['경도'] = pt_119['경도'].astype(float)\n",
    "pt_119['위도'] = pt_119['위도'].astype(float)\n",
    "pt_119['geometry'] = pt_119.apply(lambda row : Point([row['경도'], row['위도']]), axis=1)\n",
    "pt_119 = gpd.GeoDataFrame(pt_119, geometry='geometry')\n",
    "\n",
    "pt_119.head()"
   ]
  },
  {
   "cell_type": "markdown",
   "id": "d6d0d0a4",
   "metadata": {},
   "source": [
    "## 2-3. 좌표 정의 및 변환"
   ]
  },
  {
   "cell_type": "markdown",
   "id": "018c68b8",
   "metadata": {},
   "source": [
    "공간 데이터를 다룰 때는 좌표계가 중요하며, 다루는 데이터에 정의된 좌표계를 알아야 변환할 수 있다. 또한 GIS 데이터를 저장할 때에는 좌표계의 이름을 명시해주도록 하자. \n",
    "\n",
    "대표적으로 위경도, 미터 좌표계가 있는데 국내에서는 주로 아래의 좌표계를 사용한다.\n",
    "- EPSG4326(WGS84) : 위경도, 기본좌표계\n",
    "- EPSG5179(TM) : 미터 좌표계\n",
    "- EPSG5174(TM) : 미터 좌표계\n",
    "- EPSG5181(TM) : 미터 좌표계\n"
   ]
  },
  {
   "cell_type": "code",
   "execution_count": null,
   "id": "dd4fb787",
   "metadata": {},
   "outputs": [],
   "source": []
  }
 ],
 "metadata": {
  "kernelspec": {
   "display_name": "Python 3",
   "language": "python",
   "name": "python3"
  },
  "language_info": {
   "codemirror_mode": {
    "name": "ipython",
    "version": 3
   },
   "file_extension": ".py",
   "mimetype": "text/x-python",
   "name": "python",
   "nbconvert_exporter": "python",
   "pygments_lexer": "ipython3",
   "version": "3.7.10"
  }
 },
 "nbformat": 4,
 "nbformat_minor": 5
}
