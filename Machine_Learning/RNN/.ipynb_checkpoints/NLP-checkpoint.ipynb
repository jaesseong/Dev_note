{
 "cells": [
  {
   "cell_type": "markdown",
   "id": "8375208a",
   "metadata": {},
   "source": [
    "# NLP<sup>Natural Language Processing</sup>"
   ]
  },
  {
   "cell_type": "markdown",
   "id": "ba76b1f2",
   "metadata": {},
   "source": [
    "NLP는 Natural Language Processing의 약자로, 자연어 처리를 의미한다.  \n",
    "스팸, 뉴스/쇼핑 카테고리 분류, 텍스트 요약, 문장 생성, 기계 번역, 챗봇 등 다양한 분야에서 활용"
   ]
  },
  {
   "cell_type": "markdown",
   "id": "7b6806f2",
   "metadata": {},
   "source": [
    "# 자연어 처리 방법"
   ]
  },
  {
   "cell_type": "markdown",
   "id": "9c366236",
   "metadata": {},
   "source": [
    "## 토큰화(문장을 띄어쓰기 기준으로 나눔) + 단어 사전(단어와 숫자 매칭)"
   ]
  },
  {
   "cell_type": "code",
   "execution_count": 22,
   "id": "c7524731",
   "metadata": {},
   "outputs": [],
   "source": [
    "# 텐서플로 토크나이저\n",
    "from tensorflow.keras.preprocessing.text import Tokenizer"
   ]
  },
  {
   "cell_type": "code",
   "execution_count": 23,
   "id": "15e9aaff",
   "metadata": {},
   "outputs": [
    {
     "name": "stdout",
     "output_type": "stream",
     "text": [
      "단어 인덱스 :  {'영실이는': 1, '정말': 2, '좋아해': 3, '나를': 4, '영화를': 5}\n"
     ]
    }
   ],
   "source": [
    "# 토큰화(문장을 띄어쓰기 기준으로 나눔) + 단어 사전(단어와 숫자 매칭)\n",
    "sentences = [\n",
    "    '영실이는 나를 정말 정말 좋아해',\n",
    "    '영실이는 영화를 좋아해'\n",
    "]\n",
    "tokenizer = Tokenizer()\n",
    "tokenizer.fit_on_texts(sentences)\n",
    "print(\"단어 인덱스 : \", tokenizer.word_index)"
   ]
  },
  {
   "cell_type": "markdown",
   "id": "72c4917d",
   "metadata": {},
   "source": [
    "Tokenizer은 띄어쓰기 기준으로 단어 인코딩 사전을 생성한다.  \n",
    "단어 인코딩 사전의 순서는 단어의 빈도수 + 먼저 나온 순서이다."
   ]
  },
  {
   "cell_type": "markdown",
   "id": "739fe518",
   "metadata": {},
   "source": [
    "## 문자 인코딩(사전을 바탕으로 문자들을 숫자로 변경)"
   ]
  },
  {
   "cell_type": "code",
   "execution_count": 24,
   "id": "d7b697a4",
   "metadata": {},
   "outputs": [
    {
     "data": {
      "text/plain": [
       "[[1, 4, 2, 2, 3], [1, 5, 3]]"
      ]
     },
     "execution_count": 24,
     "metadata": {},
     "output_type": "execute_result"
    }
   ],
   "source": [
    "# 문자 인코딩(사전을 바탕으로 문자들을 숫자로 변경)\n",
    "word_encoding = tokenizer.texts_to_sequences(sentences)\n",
    "word_encoding"
   ]
  },
  {
   "cell_type": "markdown",
   "id": "c125948c",
   "metadata": {},
   "source": [
    "입력된 문자를 단어 인덱스를 사용하여 숫자 벡터로 변환"
   ]
  },
  {
   "cell_type": "markdown",
   "id": "057f9130",
   "metadata": {},
   "source": [
    "## 사전에 없는 단어를 포함하는 문자 인코딩"
   ]
  },
  {
   "cell_type": "code",
   "execution_count": 25,
   "id": "7348114c",
   "metadata": {},
   "outputs": [
    {
     "data": {
      "text/plain": [
       "[[1, 4, 3]]"
      ]
     },
     "execution_count": 25,
     "metadata": {},
     "output_type": "execute_result"
    }
   ],
   "source": [
    "# 사전에 없는 단어가 있을 때 인코딩 결과\n",
    "new_sentences = ['영실이는 경록이와 나를 좋아해']\n",
    "new_word_encoding = tokenizer.texts_to_sequences(new_sentences)\n",
    "new_word_encoding"
   ]
  },
  {
   "cell_type": "markdown",
   "id": "1db63780",
   "metadata": {},
   "source": [
    "자연어에는 사전에 없는 단어가 등장할 수 있다. 이러한 단어를 OOV<sup>Out Of Vocabulary</sup> token이라 부른다.  \n",
    "Tokenizer는 oov_token이라는 파라미터를 이용해 사전에 없는 단어를 처리할 수 있다."
   ]
  },
  {
   "cell_type": "code",
   "execution_count": 33,
   "id": "fbac8bcf",
   "metadata": {},
   "outputs": [
    {
     "name": "stdout",
     "output_type": "stream",
     "text": [
      "{'<OOV>': 1, '영실이는': 2, '정말': 3, '좋아해': 4, '나를': 5, '영화를': 6}\n",
      "[[2, 1, 5, 4]]\n"
     ]
    }
   ],
   "source": [
    "# 사전에 없는 OOV(Out Of Vocabulary) 단어 처리\n",
    "tokenizer = Tokenizer(oov_token='<OOV>')\n",
    "tokenizer.fit_on_texts(sentences)\n",
    "word_index = tokenizer.word_index\n",
    "\n",
    "new_word_encoding = tokenizer.texts_to_sequences(new_sentences)\n",
    "\n",
    "print(word_index)\n",
    "print(new_word_encoding)"
   ]
  },
  {
   "cell_type": "markdown",
   "id": "f0b6f891",
   "metadata": {},
   "source": [
    "위의 결과를 보면 사전에 없는 단어 `경록이와`가 `1`로 변환된 것을 확인할 수 있다.  \n",
    "이와 같은 방식으로 사전에 없는 단어를 숫자로 변경할 수 있다."
   ]
  },
  {
   "cell_type": "markdown",
   "id": "33b4d306",
   "metadata": {},
   "source": [
    "## 빈도수 적은 단어 제외시키기"
   ]
  },
  {
   "cell_type": "markdown",
   "id": "6a7751fb",
   "metadata": {},
   "source": [
    "텍스트 데이터에는 빈도수가 작은 단어가 다수 존재하는 경우에는 이러한 단어들을 제외하는 것이 일반적이다.  \n",
    "이를 위해 인코딩할 때, 사전의 단어의 개수를 제한하여 빈도수가 적은 단어들을 제외시키는 방법을 사용한다."
   ]
  },
  {
   "cell_type": "code",
   "execution_count": 27,
   "id": "39523282",
   "metadata": {},
   "outputs": [
    {
     "name": "stdout",
     "output_type": "stream",
     "text": [
      "{'<OOV>': 1, '영실이는': 2, '정말': 3, '좋아해': 4, '나를': 5, '영화를': 6}\n",
      "[[2, 1, 1, 1]]\n"
     ]
    }
   ],
   "source": [
    "# 단어 사전 개수 설정\n",
    "tokenizer = Tokenizer(num_words=3, oov_token='<OOV>')\n",
    "tokenizer.fit_on_texts(sentences)\n",
    "word_index = tokenizer.word_index\n",
    "\n",
    "new_word_encoding = tokenizer.texts_to_sequences(new_sentences)\n",
    "\n",
    "print(word_index)\n",
    "print(new_word_encoding)"
   ]
  },
  {
   "cell_type": "markdown",
   "id": "2f6d797b",
   "metadata": {},
   "source": [
    "`num_words`를 어떠한 숫자로 설정해도 전체에 대한 단어 인코딩 사전이 만들어지고 해당 사전에서 설정한 숫자 만큼만 단어 사전에서 활용된다."
   ]
  },
  {
   "cell_type": "markdown",
   "id": "b2e04727",
   "metadata": {},
   "source": [
    "## 문장의 길이(크기)를 일정하게 맞추기(패딩<sup>Padding</sup>)"
   ]
  },
  {
   "cell_type": "markdown",
   "id": "04f88cf7",
   "metadata": {},
   "source": [
    "순환신경망(RNN)에 데이터를 입력하기 위해서는 문장의 길이(크기)를 일정하게 변경하여야한다.  \n",
    "이를 패딩<sup>Padding</sup>이라 부른다."
   ]
  },
  {
   "cell_type": "code",
   "execution_count": 34,
   "id": "40821593",
   "metadata": {},
   "outputs": [
    {
     "data": {
      "text/plain": [
       "[[2, 5, 3, 3, 4], [2, 6, 4]]"
      ]
     },
     "execution_count": 34,
     "metadata": {},
     "output_type": "execute_result"
    }
   ],
   "source": [
    "word_encoding = tokenizer.texts_to_sequences(sentences)\n",
    "word_encoding"
   ]
  },
  {
   "cell_type": "code",
   "execution_count": 35,
   "id": "f11fdc1d",
   "metadata": {
    "scrolled": true
   },
   "outputs": [
    {
     "name": "stdout",
     "output_type": "stream",
     "text": [
      "[[2 5 3 3 4]\n",
      " [0 0 2 6 4]]\n"
     ]
    }
   ],
   "source": [
    "from tensorflow.keras.preprocessing.sequence import pad_sequences\n",
    "padded = pad_sequences(word_encoding)\n",
    "print(padded)"
   ]
  },
  {
   "cell_type": "markdown",
   "id": "8364eb9c",
   "metadata": {},
   "source": [
    "앞에서부터 0을 채우는 padding의 값은 `pre`로 default값이다.  \n",
    "뒤에서부터 0을 채우고 싶다면, padding의 값을 `post`로 변경해주자."
   ]
  },
  {
   "cell_type": "markdown",
   "id": "f39a96ae",
   "metadata": {},
   "source": [
    "## 최대 길이 제한"
   ]
  },
  {
   "cell_type": "markdown",
   "id": "bcff8896",
   "metadata": {},
   "source": [
    "최대 길이는 `maxlen`으로 제한해준다."
   ]
  },
  {
   "cell_type": "code",
   "execution_count": 36,
   "id": "4a9f4bea",
   "metadata": {},
   "outputs": [
    {
     "name": "stdout",
     "output_type": "stream",
     "text": [
      "[[5 3 3 4]\n",
      " [2 6 4 0]]\n"
     ]
    }
   ],
   "source": [
    "padded = pad_sequences(word_encoding, padding='post', maxlen=4)\n",
    "print(padded)"
   ]
  },
  {
   "cell_type": "markdown",
   "id": "fa305ca4",
   "metadata": {},
   "source": [
    "## 최대 길이 이상의 문장 자르는 기준 바꾸기"
   ]
  },
  {
   "cell_type": "markdown",
   "id": "09daac68",
   "metadata": {},
   "source": [
    "기본적으로 최대 길이 이상의 문장을 자를 때는 앞에서부터 자른다.  \n",
    "하지만, 뒤에서부터 자르고 싶다면, truncation의 파라미터를 `post`로 변경해주면 된다."
   ]
  },
  {
   "cell_type": "code",
   "execution_count": 37,
   "id": "2dcabb3d",
   "metadata": {},
   "outputs": [
    {
     "name": "stdout",
     "output_type": "stream",
     "text": [
      "[[2 5 3 3]\n",
      " [2 6 4 0]]\n"
     ]
    }
   ],
   "source": [
    "# 최대 길이보다 문장이 길 때 뒷부분 자르기\n",
    "padded = pad_sequences(word_encoding, padding='post', truncating='post', maxlen=4)\n",
    "print(padded)"
   ]
  },
  {
   "cell_type": "markdown",
   "id": "1c196628",
   "metadata": {},
   "source": [
    "# 한국어 감성분석"
   ]
  },
  {
   "cell_type": "markdown",
   "id": "a36bbe98",
   "metadata": {},
   "source": [
    "> **감성 분석<sup>Sentiment Analysis</sup>**  \n",
    "> 텍스트에 들어있는 의견이나 감성, 평가, 태도 등의 주관적인 정보를 분석하는 과정"
   ]
  },
  {
   "cell_type": "code",
   "execution_count": 39,
   "id": "212d4757",
   "metadata": {},
   "outputs": [],
   "source": [
    "# 필요한 라이브러리 불러오기\n",
    "import pandas as pd\n",
    "import numpy as np\n",
    "import seaborn as sns\n",
    "import matplotlib.pyplot as plt\n",
    "import tensorflow as tf\n",
    "import warnings\n",
    "warnings.filterwarnings(action='ignore')"
   ]
  },
  {
   "cell_type": "markdown",
   "id": "d47558a3",
   "metadata": {},
   "source": [
    "사용할 데이터는 네이버 영화 리뷰 데이터이다."
   ]
  },
  {
   "cell_type": "code",
   "execution_count": 42,
   "id": "2977f1b2",
   "metadata": {},
   "outputs": [
    {
     "name": "stdout",
     "output_type": "stream",
     "text": [
      "Downloading data from https://raw.githubusercontent.com/e9t/nsmc/master/ratings_train.txt\n",
      "14630912/14628807 [==============================] - 1s 0us/step\n"
     ]
    }
   ],
   "source": [
    "# 데이터 불러오기\n",
    "train_file = tf.keras.utils.get_file('ratings_train.txt', origin='https://raw.githubusercontent.com/e9t/nsmc/master/ratings_train.txt', extract=True)\n",
    "train = pd.read_csv(train_file, sep='\\t')"
   ]
  },
  {
   "cell_type": "markdown",
   "id": "d1b80384",
   "metadata": {},
   "source": [
    "## EDA(탐색적 분석)"
   ]
  },
  {
   "cell_type": "markdown",
   "id": "aa452059",
   "metadata": {},
   "source": [
    "탐색적 분석<sup>Exploratory Data Analysis</sup>을 통한 데이터 크기, 인스턴스, 결측치 및 레이블 등을 확인한다."
   ]
  },
  {
   "cell_type": "code",
   "execution_count": 44,
   "id": "378f88c8",
   "metadata": {},
   "outputs": [
    {
     "name": "stdout",
     "output_type": "stream",
     "text": [
      "train shape :  (150000, 3)\n"
     ]
    },
    {
     "data": {
      "text/html": [
       "<div>\n",
       "<style scoped>\n",
       "    .dataframe tbody tr th:only-of-type {\n",
       "        vertical-align: middle;\n",
       "    }\n",
       "\n",
       "    .dataframe tbody tr th {\n",
       "        vertical-align: top;\n",
       "    }\n",
       "\n",
       "    .dataframe thead th {\n",
       "        text-align: right;\n",
       "    }\n",
       "</style>\n",
       "<table border=\"1\" class=\"dataframe\">\n",
       "  <thead>\n",
       "    <tr style=\"text-align: right;\">\n",
       "      <th></th>\n",
       "      <th>id</th>\n",
       "      <th>document</th>\n",
       "      <th>label</th>\n",
       "    </tr>\n",
       "  </thead>\n",
       "  <tbody>\n",
       "    <tr>\n",
       "      <th>0</th>\n",
       "      <td>9976970</td>\n",
       "      <td>아 더빙.. 진짜 짜증나네요 목소리</td>\n",
       "      <td>0</td>\n",
       "    </tr>\n",
       "    <tr>\n",
       "      <th>1</th>\n",
       "      <td>3819312</td>\n",
       "      <td>흠...포스터보고 초딩영화줄....오버연기조차 가볍지 않구나</td>\n",
       "      <td>1</td>\n",
       "    </tr>\n",
       "    <tr>\n",
       "      <th>2</th>\n",
       "      <td>10265843</td>\n",
       "      <td>너무재밓었다그래서보는것을추천한다</td>\n",
       "      <td>0</td>\n",
       "    </tr>\n",
       "    <tr>\n",
       "      <th>3</th>\n",
       "      <td>9045019</td>\n",
       "      <td>교도소 이야기구먼 ..솔직히 재미는 없다..평점 조정</td>\n",
       "      <td>0</td>\n",
       "    </tr>\n",
       "    <tr>\n",
       "      <th>4</th>\n",
       "      <td>6483659</td>\n",
       "      <td>사이몬페그의 익살스런 연기가 돋보였던 영화!스파이더맨에서 늙어보이기만 했던 커스틴 ...</td>\n",
       "      <td>1</td>\n",
       "    </tr>\n",
       "  </tbody>\n",
       "</table>\n",
       "</div>"
      ],
      "text/plain": [
       "         id                                           document  label\n",
       "0   9976970                                아 더빙.. 진짜 짜증나네요 목소리      0\n",
       "1   3819312                  흠...포스터보고 초딩영화줄....오버연기조차 가볍지 않구나      1\n",
       "2  10265843                                  너무재밓었다그래서보는것을추천한다      0\n",
       "3   9045019                      교도소 이야기구먼 ..솔직히 재미는 없다..평점 조정      0\n",
       "4   6483659  사이몬페그의 익살스런 연기가 돋보였던 영화!스파이더맨에서 늙어보이기만 했던 커스틴 ...      1"
      ]
     },
     "execution_count": 44,
     "metadata": {},
     "output_type": "execute_result"
    }
   ],
   "source": [
    "# 데이터 크기 및 인스턴스 확인\n",
    "print(\"train shape : \", train.shape)\n",
    "train.head()"
   ]
  },
  {
   "cell_type": "markdown",
   "id": "5554131e",
   "metadata": {},
   "source": [
    "### Label 별 개수 확인하기\n",
    "불균형이 심할 경우, 훈련이 제대로 이루어지기 힘들다."
   ]
  },
  {
   "cell_type": "code",
   "execution_count": 45,
   "id": "4d1db066",
   "metadata": {},
   "outputs": [
    {
     "name": "stdout",
     "output_type": "stream",
     "text": [
      "0    75173\n",
      "1    74827\n",
      "Name: label, dtype: int64\n"
     ]
    }
   ],
   "source": [
    "# 레이블별 개수\n",
    "cnt = train['label'].value_counts()\n",
    "print(cnt)"
   ]
  },
  {
   "cell_type": "code",
   "execution_count": 46,
   "id": "dccbfde8",
   "metadata": {},
   "outputs": [
    {
     "data": {
      "text/plain": [
       "<AxesSubplot:xlabel='label', ylabel='count'>"
      ]
     },
     "execution_count": 46,
     "metadata": {},
     "output_type": "execute_result"
    },
    {
     "data": {
      "image/png": "[encoded data removed]",
      "text/plain": [
       "<Figure size 432x288 with 1 Axes>"
      ]
     },
     "metadata": {
      "needs_background": "light"
     },
     "output_type": "display_data"
    }
   ],
   "source": [
    "# 레이블별 비율\n",
    "sns.countplot(x='label', data=train)"
   ]
  },
  {
   "cell_type": "markdown",
   "id": "6cda90dd",
   "metadata": {},
   "source": [
    "### 결측치 확인"
   ]
  },
  {
   "cell_type": "code",
   "execution_count": 48,
   "id": "fda625ea",
   "metadata": {},
   "outputs": [
    {
     "data": {
      "text/plain": [
       "id          0\n",
       "document    5\n",
       "label       0\n",
       "dtype: int64"
      ]
     },
     "execution_count": 48,
     "metadata": {},
     "output_type": "execute_result"
    }
   ],
   "source": [
    "train.isnull().sum()"
   ]
  },
  {
   "cell_type": "code",
   "execution_count": 49,
   "id": "c38300a6",
   "metadata": {},
   "outputs": [
    {
     "data": {
      "text/html": [
       "<div>\n",
       "<style scoped>\n",
       "    .dataframe tbody tr th:only-of-type {\n",
       "        vertical-align: middle;\n",
       "    }\n",
       "\n",
       "    .dataframe tbody tr th {\n",
       "        vertical-align: top;\n",
       "    }\n",
       "\n",
       "    .dataframe thead th {\n",
       "        text-align: right;\n",
       "    }\n",
       "</style>\n",
       "<table border=\"1\" class=\"dataframe\">\n",
       "  <thead>\n",
       "    <tr style=\"text-align: right;\">\n",
       "      <th></th>\n",
       "      <th>id</th>\n",
       "      <th>document</th>\n",
       "      <th>label</th>\n",
       "    </tr>\n",
       "  </thead>\n",
       "  <tbody>\n",
       "    <tr>\n",
       "      <th>25857</th>\n",
       "      <td>2172111</td>\n",
       "      <td>NaN</td>\n",
       "      <td>1</td>\n",
       "    </tr>\n",
       "    <tr>\n",
       "      <th>55737</th>\n",
       "      <td>6369843</td>\n",
       "      <td>NaN</td>\n",
       "      <td>1</td>\n",
       "    </tr>\n",
       "    <tr>\n",
       "      <th>110014</th>\n",
       "      <td>1034280</td>\n",
       "      <td>NaN</td>\n",
       "      <td>0</td>\n",
       "    </tr>\n",
       "    <tr>\n",
       "      <th>126782</th>\n",
       "      <td>5942978</td>\n",
       "      <td>NaN</td>\n",
       "      <td>0</td>\n",
       "    </tr>\n",
       "    <tr>\n",
       "      <th>140721</th>\n",
       "      <td>1034283</td>\n",
       "      <td>NaN</td>\n",
       "      <td>0</td>\n",
       "    </tr>\n",
       "  </tbody>\n",
       "</table>\n",
       "</div>"
      ],
      "text/plain": [
       "             id document  label\n",
       "25857   2172111      NaN      1\n",
       "55737   6369843      NaN      1\n",
       "110014  1034280      NaN      0\n",
       "126782  5942978      NaN      0\n",
       "140721  1034283      NaN      0"
      ]
     },
     "execution_count": 49,
     "metadata": {},
     "output_type": "execute_result"
    }
   ],
   "source": [
    "# 결측치(의견없음)가 특정 label 값만 있는지 확인\n",
    "train[train['document'].isnull()]"
   ]
  },
  {
   "cell_type": "markdown",
   "id": "43505b75",
   "metadata": {},
   "source": [
    "label 값이 일정하지 않기 때문에 의미가 없는 데이터로 판단, 삭제"
   ]
  },
  {
   "cell_type": "code",
   "execution_count": 51,
   "id": "6ae504b2",
   "metadata": {},
   "outputs": [],
   "source": [
    "# 의미 없는 데이터 (NULL 데이터) 삭제하기\n",
    "train = train[~train['document'].isnull()]"
   ]
  },
  {
   "cell_type": "markdown",
   "id": "3007209e",
   "metadata": {},
   "source": [
    "### 감정에 따른 데이터의 길이 차이 분석"
   ]
  },
  {
   "cell_type": "code",
   "execution_count": 54,
   "id": "f6727e41",
   "metadata": {},
   "outputs": [
    {
     "data": {
      "image/png": "[encoded data removed]",
      "text/plain": [
       "<Figure size 720x360 with 2 Axes>"
      ]
     },
     "metadata": {
      "needs_background": "light"
     },
     "output_type": "display_data"
    }
   ],
   "source": [
    "# 레이블별 텍스트 길이\n",
    "fig, (ax1, ax2) = plt.subplots(1, 2, figsize=(10,5))\n",
    "data_len = train[train['label'] == 0]['document'].str.len()\n",
    "ax1.hist(data_len)\n",
    "ax1.set_title('positive')\n",
    "\n",
    "data_len = train[train['label'] == 1]['document'].str.len()\n",
    "ax2.hist(data_len)\n",
    "ax2.set_title('negative')\n",
    "fig.suptitle('Number of characters')\n",
    "plt.show()"
   ]
  },
  {
   "cell_type": "markdown",
   "id": "b9b5924b",
   "metadata": {},
   "source": [
    "감정에 따른 길이의 차이는 명확하지 않으므로 분류에 있어서 중요한 정보가 될 수 없다."
   ]
  },
  {
   "cell_type": "markdown",
   "id": "6ffee3f5",
   "metadata": {},
   "source": [
    "## 형태소 분석기 불러오기"
   ]
  },
  {
   "cell_type": "markdown",
   "id": "aecef984",
   "metadata": {},
   "source": [
    "자연어 처리에서 말하는 형태소 분석이란, 어떤 대상 어절을 최소의 의미 단위인 '형태소'로 분석하는 것을 의미  \n",
    "한국어 형태소 분석기 : Kkma, Komoran, Okt, Mecab 등"
   ]
  },
  {
   "cell_type": "code",
   "execution_count": null,
   "id": "5d973a58",
   "metadata": {},
   "outputs": [],
   "source": []
  }
 ],
 "metadata": {
  "kernelspec": {
   "display_name": "Python 3",
   "language": "python",
   "name": "python3"
  },
  "language_info": {
   "codemirror_mode": {
    "name": "ipython",
    "version": 3
   },
   "file_extension": ".py",
   "mimetype": "text/x-python",
   "name": "python",
   "nbconvert_exporter": "python",
   "pygments_lexer": "ipython3",
   "version": "3.7.10"
  }
 },
 "nbformat": 4,
 "nbformat_minor": 5
}
