{
 "cells": [
  {
   "cell_type": "markdown",
   "id": "1f7bbf41",
   "metadata": {},
   "source": [
    "# [Clustering Algorithms](https://machinelearningmastery.com/clustering-algorithms-with-python/)"
   ]
  },
  {
   "cell_type": "markdown",
   "id": "6a5947a5",
   "metadata": {},
   "source": [
    "# Tutorial Overview\n",
    "   1. [Clustering](#Clustering)\n",
    "   2. Clustering Algorithms\n",
    "   3. Examples of Clustering Algorithms\n",
    "       1. Library Installation\n",
    "       2. Clustering Dataset\n",
    "       3. Affinity Propagation\n",
    "       4. Agglomerative Clustering\n",
    "       5. BIRCH\n",
    "       6. DBSCAN\n",
    "       7. K-Means\n",
    "       8. Mini-Batch K-Means\n",
    "       9. Mean Shift\n",
    "       10. OPTICS\n",
    "       11. Spectral Clustering\n",
    "       12. Gaussian Mixture Model"
   ]
  },
  {
   "cell_type": "markdown",
   "id": "d7663afb",
   "metadata": {},
   "source": [
    "# Clustering"
   ]
  },
  {
   "cell_type": "markdown",
   "id": "d8913267",
   "metadata": {},
   "source": [
    "**Clustering** 또는 **cluster analysis**이란?\n",
    "   - 비교사 학습  \n",
    "   - 예측할 클래스가 없는 경우가 아니라, 인스턴스가 본연적으로 그룹화되어 분할되어야 할 때 적용\n",
    "   - 모든 데이터에 가장 적합한 알고리즘은 없다. 따라서, 다양한 군집화 알고리즘과 각 알고리즘에 대한 구성을 알고 있는 것이 좋음\n",
    "   - 결과에 대한 평가가 어려움"
   ]
  },
  {
   "cell_type": "markdown",
   "id": "88d5972b",
   "metadata": {},
   "source": [
    "# Clustering Algorithms"
   ]
  },
  {
   "cell_type": "markdown",
   "id": "c9ddfe93",
   "metadata": {},
   "source": [
    "   - 인스턴스들 사이의 거리 또는 유사성을 측정하여 밀집 지역을 발견\n",
    "   - 적절한 결과가 도출되어질 때까지 군집화되어진 군집들에 대한 주관적인 평가가 알고리즘 구성을 바꾸는 피드백으로 전달되는 반복적인 과정\n",
    "   - 통제된 실험을 하지않고 최고의 알고리즘을 찾는 쉬운 방법은 없음"
   ]
  },
  {
   "cell_type": "markdown",
   "id": "2001575b",
   "metadata": {},
   "source": [
    "# Examples of Clustering Algorithms"
   ]
  },
  {
   "cell_type": "markdown",
   "id": "e20aa4ac",
   "metadata": {},
   "source": [
    "이제 인기있는 10개의 클러스터링 알고리즘을 배워보자"
   ]
  },
  {
   "cell_type": "markdown",
   "id": "098c3b33",
   "metadata": {},
   "source": [
    "## Library Installation"
   ]
  },
  {
   "cell_type": "markdown",
   "id": "24c65548",
   "metadata": {},
   "source": [
    "**Anaconda** 환경이라면, 이미 설치되어 있는 scikit-learn 라이브러리를 업데이트 해주자.\n",
    "```\n",
    "conda update scikit-learn\n",
    "```"
   ]
  },
  {
   "cell_type": "markdown",
   "id": "113a7375",
   "metadata": {},
   "source": [
    "만약 **python** 환경이라면,\n",
    "```\n",
    "pip install skikit-learn\n",
    "```"
   ]
  },
  {
   "cell_type": "markdown",
   "id": "a3d32994",
   "metadata": {},
   "source": [
    "## Clustering Dataset"
   ]
  },
  {
   "cell_type": "markdown",
   "id": "2c0df871",
   "metadata": {},
   "source": [
    "이 곳에서는 클러스터링을 이용하여 분류되어진 결과값들을 쉽게 볼 수 있도록 2차원 데이터로 나타낼 것이며, scatter plot을 이용하여 분류된 데이터를 확인함으로써 알고리즘 별 결과를 확인할 것이다."
   ]
  },
  {
   "cell_type": "code",
   "execution_count": 9,
   "id": "b1e28795",
   "metadata": {},
   "outputs": [],
   "source": [
    "# synthetic classification dataset\n",
    "from numpy import unique\n",
    "from numpy import where\n",
    "from sklearn.datasets import make_classification\n",
    "from matplotlib import pyplot"
   ]
  },
  {
   "cell_type": "code",
   "execution_count": 5,
   "id": "7ef6b895",
   "metadata": {},
   "outputs": [],
   "source": [
    "# define dataset\n",
    "X, y = make_classification(n_samples=1000, n_features=2, n_informative=2, n_redundant=0, n_clusters_per_class=1, random_state=4)"
   ]
  },
  {
   "cell_type": "markdown",
   "id": "04b5152a",
   "metadata": {},
   "source": [
    "2개의 column을 가진 1000개의 데이터셋을 만들었다."
   ]
  },
  {
   "cell_type": "code",
   "execution_count": 6,
   "id": "7ec34953",
   "metadata": {
    "scrolled": true
   },
   "outputs": [
    {
     "data": {
      "image/png": "[encoded data removed]",
      "text/plain": [
       "<Figure size 432x288 with 1 Axes>"
      ]
     },
     "metadata": {
      "needs_background": "light"
     },
     "output_type": "display_data"
    }
   ],
   "source": [
    "# create scatter plot for samples from each class\n",
    "for class_value in range(2):\n",
    "    # get row indexes for samples with this class\n",
    "    row_ix = where(y == class_value)\n",
    "    # create scatter of these samples\n",
    "    pyplot.scatter(X[row_ix, 0], X[row_ix, 1])\n",
    "# show the plot\n",
    "pyplot.show()"
   ]
  },
  {
   "cell_type": "markdown",
   "id": "914dfde7",
   "metadata": {},
   "source": [
    "## Affinity Propagation"
   ]
  },
  {
   "cell_type": "markdown",
   "id": "5c2981d6",
   "metadata": {},
   "source": [
    "   - 군집의 개수를 지정할 필요가 없다."
   ]
  },
  {
   "cell_type": "markdown",
   "id": "b410bef5",
   "metadata": {},
   "source": [
    "Affinity Propagation이란, 인스턴스 간의 유사성을 이용하여 고품질 표본 집합과 "
   ]
  },
  {
   "cell_type": "code",
   "execution_count": 10,
   "id": "b5171adb",
   "metadata": {},
   "outputs": [],
   "source": [
    "from sklearn.cluster import AffinityPropagation"
   ]
  },
  {
   "cell_type": "code",
   "execution_count": null,
   "id": "547bf405",
   "metadata": {},
   "outputs": [],
   "source": []
  }
 ],
 "metadata": {
  "kernelspec": {
   "display_name": "Python 3",
   "language": "python",
   "name": "python3"
  },
  "language_info": {
   "codemirror_mode": {
    "name": "ipython",
    "version": 3
   },
   "file_extension": ".py",
   "mimetype": "text/x-python",
   "name": "python",
   "nbconvert_exporter": "python",
   "pygments_lexer": "ipython3",
   "version": "3.8.10"
  }
 },
 "nbformat": 4,
 "nbformat_minor": 5
}
