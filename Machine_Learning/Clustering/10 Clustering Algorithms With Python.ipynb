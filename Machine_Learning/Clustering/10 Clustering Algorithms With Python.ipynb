{
 "cells": [
  {
   "cell_type": "markdown",
   "id": "1f7bbf41",
   "metadata": {},
   "source": [
    "# [Clustering Algorithms](https://machinelearningmastery.com/clustering-algorithms-with-python/)"
   ]
  },
  {
   "cell_type": "markdown",
   "id": "6a5947a5",
   "metadata": {},
   "source": [
    "# Tutorial Overview\n",
    "   1. [Clustering](#Clustering)\n",
    "   2. Clustering Algorithms\n",
    "   3. Examples of Clustering Algorithms\n",
    "       1. Library Installation\n",
    "       2. Clustering Dataset\n",
    "       3. Affinity Propagation\n",
    "       4. Agglomerative Clustering\n",
    "       5. BIRCH\n",
    "       6. DBSCAN\n",
    "       7. K-Means\n",
    "       8. Mini-Batch K-Means\n",
    "       9. Mean Shift\n",
    "       10. OPTICS\n",
    "       11. Spectral Clustering\n",
    "       12. Gaussian Mixture Model"
   ]
  },
  {
   "cell_type": "markdown",
   "id": "d7663afb",
   "metadata": {},
   "source": [
    "# Clustering"
   ]
  },
  {
   "cell_type": "markdown",
   "id": "d8913267",
   "metadata": {},
   "source": [
    "**Clustring** 또는 **cluster analysis**는 비교사 학습 문제입니다.  \n",
    "클러스터\n",
    "따라서, 다양한 군집화 알고리즘과 각 알고리즘에 대한 구성을 알고 있는 것이 좋습니다."
   ]
  },
  {
   "cell_type": "markdown",
   "id": "1c32b315",
   "metadata": {},
   "source": [
    "> 클러스터링 기술은 예측할 클래스가 없는 경우가 아니라, 인스턴스가 자연적으로 그룹화 되어져야 할 때 적용됩니다."
   ]
  },
  {
   "cell_type": "markdown",
   "id": "59d04c34",
   "metadata": {},
   "source": [
    "군집은 도메인의 인스턴스가 다른 군집보다 해당하는 군집에 더 가까운 특성 공간의 밀도 영역입니다.  \n",
    "군집은 인스턴스 또는 특성 공간의 점으로 이루어진 중심점이나 경계 또는 범주를 가지고 있습니다."
   ]
  },
  {
   "cell_type": "markdown",
   "id": "f309b479",
   "metadata": {},
   "source": [
    "> 이러한 군집화는 일부의 인스턴스가 서로에 대해 더 강한 유사성을 띄는 원리를 반영한 것입니다."
   ]
  },
  {
   "cell_type": "code",
   "execution_count": null,
   "id": "dc068a16",
   "metadata": {},
   "outputs": [],
   "source": []
  },
  {
   "cell_type": "code",
   "execution_count": null,
   "id": "dd64e8bb",
   "metadata": {},
   "outputs": [],
   "source": []
  },
  {
   "cell_type": "code",
   "execution_count": null,
   "id": "a164352c",
   "metadata": {},
   "outputs": [],
   "source": []
  },
  {
   "cell_type": "code",
   "execution_count": null,
   "id": "fa93d903",
   "metadata": {},
   "outputs": [],
   "source": []
  },
  {
   "cell_type": "code",
   "execution_count": null,
   "id": "6bf684fd",
   "metadata": {},
   "outputs": [],
   "source": []
  },
  {
   "cell_type": "code",
   "execution_count": null,
   "id": "d2499098",
   "metadata": {},
   "outputs": [],
   "source": []
  },
  {
   "cell_type": "code",
   "execution_count": null,
   "id": "13756517",
   "metadata": {},
   "outputs": [],
   "source": []
  },
  {
   "cell_type": "code",
   "execution_count": null,
   "id": "3ba5a5dd",
   "metadata": {},
   "outputs": [],
   "source": []
  },
  {
   "cell_type": "code",
   "execution_count": null,
   "id": "55524dfb",
   "metadata": {},
   "outputs": [],
   "source": []
  },
  {
   "cell_type": "code",
   "execution_count": null,
   "id": "9f570021",
   "metadata": {},
   "outputs": [],
   "source": []
  },
  {
   "cell_type": "code",
   "execution_count": null,
   "id": "b1e28795",
   "metadata": {},
   "outputs": [],
   "source": []
  },
  {
   "cell_type": "code",
   "execution_count": null,
   "id": "7ef6b895",
   "metadata": {},
   "outputs": [],
   "source": []
  },
  {
   "cell_type": "code",
   "execution_count": null,
   "id": "7ec34953",
   "metadata": {},
   "outputs": [],
   "source": []
  },
  {
   "cell_type": "code",
   "execution_count": null,
   "id": "48f7820e",
   "metadata": {},
   "outputs": [],
   "source": []
  },
  {
   "cell_type": "code",
   "execution_count": null,
   "id": "198eb720",
   "metadata": {},
   "outputs": [],
   "source": []
  },
  {
   "cell_type": "code",
   "execution_count": null,
   "id": "606e8caf",
   "metadata": {},
   "outputs": [],
   "source": []
  },
  {
   "cell_type": "code",
   "execution_count": null,
   "id": "b5171adb",
   "metadata": {},
   "outputs": [],
   "source": []
  },
  {
   "cell_type": "code",
   "execution_count": null,
   "id": "547bf405",
   "metadata": {},
   "outputs": [],
   "source": []
  }
 ],
 "metadata": {
  "kernelspec": {
   "display_name": "Python 3",
   "language": "python",
   "name": "python3"
  },
  "language_info": {
   "codemirror_mode": {
    "name": "ipython",
    "version": 3
   },
   "file_extension": ".py",
   "mimetype": "text/x-python",
   "name": "python",
   "nbconvert_exporter": "python",
   "pygments_lexer": "ipython3",
   "version": "3.7.10"
  }
 },
 "nbformat": 4,
 "nbformat_minor": 5
}
